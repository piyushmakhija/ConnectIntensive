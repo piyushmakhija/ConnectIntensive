{
 "cells": [
  {
   "cell_type": "markdown",
   "metadata": {},
   "source": [
    "\n",
    "# Connect Intensive - Machine Learning Nanodegree\n",
    "# Lesson 01: An intro to Statistical Analysis using `pandas`\n",
    "\n",
    "## Objectives\n",
    "  - Practice running python from within a [Jupyter Notebook](http://jupyter.org/) (FKA IPython Notebook).\n",
    "  - Become familiar with importing useful modules and packages, *e.g.* `pandas`, `numpy`, `matplotlib.pyplot`.\n",
    "  - Learn about the [`pandas` data structures](http://pandas.pydata.org/pandas-docs/stable/dsintro.html#), including the `Series` and `DataFrame` objects.\n",
    "  - Create a `DataFrame` object from data in a comma-separated variable (csv) file using [`pandas.read_csv`](http://pandas.pydata.org/pandas-docs/stable/generated/pandas.read_csv.html)\n",
    "  - [Index and select data](http://pandas.pydata.org/pandas-docs/stable/indexing.html) from `Series` and `DataFrame` objects using `loc` and `iloc`\n",
    "  - Compute descriptive statistics on a `Series` or `DataFrame`, including the [`mean`](http://pandas.pydata.org/pandas-docs/stable/generated/pandas.DataFrame.mean.html), the [`median`](http://pandas.pydata.org/pandas-docs/stable/generated/pandas.DataFrame.median.html), and the [`min`](http://pandas.pydata.org/pandas-docs/stable/generated/pandas.DataFrame.min.html) & [`max`](http://pandas.pydata.org/pandas-docs/stable/generated/pandas.DataFrame.max.html)\n",
    "  - Explore a public data set found on [Kaggle](https://www.kaggle.com/)\n",
    "  - Conduct some exploratory data analysis, and visualize trends in data using `matplotlib`\n",
    "  \n",
    "## Prerequisites\n",
    "  - You should be able to run Lesson 00: Hello Jupyter Notebook!\n",
    "  "
   ]
  },
  {
   "cell_type": "markdown",
   "metadata": {},
   "source": [
    "## Welcome!\n",
    "Hello astute young machine learnist, I'm glad you're here to learn more about statistical analysis! One of the major skills you can bring to the table as a machine learnist is the ability to explore and understand a data set. The library **`pandas`** is a Python package developed by Wes McKinney that machine learnists use to quickly and efficiently navigate data sets. From [the pandas documentation](http://pandas.pydata.org/pandas-docs/stable/index.html):\n",
    "\n",
    "> \"**`pandas`** is a Python package providing fast, flexible, and expressive data structures designed to make working with “relational” or “labeled” data both easy and intuitive.\"\n",
    "\n",
    "Fun fact: the name \"`pandas`\" derives from **pan**el **da**ta, a term for multi-dimensional data sets! [(source)](http://www.dlr.de/sc/Portaldata/15/Resources/dokumente/pyhpc2011/submissions/pyhpc2011_submission_9.pdf)\n",
    "\n",
    "## There's plenty to learn!\n",
    "Depending on your background, a lot of the information and code in this Jupyter Notebook may be new to you. But don't worry, lots of documentation and references have been hyperlinked for you. Feel free to click on any of the hyperlinks to learn more -- the links should open within a new tab, so you won't lose your progress in the Jupyter Notebook. If you're still feeling uncertain about a topic, often the best place to start is a quick web search. For example, if Python is throwing me an error I've never seen before, I'll often copy and paste the error right into a Google search and see what comes up!"
   ]
  },
  {
   "cell_type": "markdown",
   "metadata": {},
   "source": [
    "## First things first: Import statements\n",
    "In Jupyter Notebooks, one of the first things we want to do is import useful modules and packages that will provide more functionality to our code. For example, we will want to import `pandas` so that we can manipulate data using the `DataFrame` object. We also want to have our Jupyter Notebook create figures and plots directly within the notebook. To do this, we use the [magic function](http://ipython.readthedocs.io/en/stable/interactive/tutorial.html#magics-explained) `%matplotlib inline`. For more information on plotting within the IPython kernel, [check this out](http://ipython.readthedocs.io/en/stable/interactive/plotting.html)!\n",
    "\n",
    "**Run** the cell below (**click** on the cell to highlight it, then press **shift + enter** or **shift + return** to run it) to import modules and libraries for this Jupyter Notebook"
   ]
  },
  {
   "cell_type": "code",
   "execution_count": 4,
   "metadata": {
    "collapsed": false,
    "scrolled": true
   },
   "outputs": [
    {
     "name": "stderr",
     "output_type": "stream",
     "text": [
      "/Users/Piyush/.pyenv/versions/2.7.12/lib/python2.7/site-packages/matplotlib/font_manager.py:273: UserWarning: Matplotlib is building the font cache using fc-list. This may take a moment.\n",
      "  warnings.warn('Matplotlib is building the font cache using fc-list. This may take a moment.')\n"
     ]
    },
    {
     "name": "stdout",
     "output_type": "stream",
     "text": [
      "Successfully imported numpy! (Version 1.11.2)\n",
      "Successfully imported matplotlib.pyplot! (Version 1.5.3)\n",
      "Successfully imported pandas! (Version 0.19.0)\n",
      "Successfully imported display from IPython.display!\n",
      "Successfully imported ZipFile from zipfile!\n",
      "Successfully imported os.path!\n"
     ]
    }
   ],
   "source": [
    "%matplotlib inline\n",
    "try:\n",
    "    import numpy as np\n",
    "    print(\"Successfully imported numpy! (Version {})\".format(np.version.version))\n",
    "except ImportError:\n",
    "    print(\"Could not import numpy!\")\n",
    "\n",
    "    \n",
    "try:\n",
    "    import warnings\n",
    "    with warnings.catch_warnings():\n",
    "        warnings.simplefilter(\"ignore\");\n",
    "        import matplotlib\n",
    "        import matplotlib.pyplot as plt\n",
    "    plt.style.use('ggplot')\n",
    "    print(\"Successfully imported matplotlib.pyplot! (Version {})\".format(matplotlib.__version__))\n",
    "except ImportError:\n",
    "    print(\"Could not import matplotlib.pyplot!\")\n",
    "\n",
    "    \n",
    "try:\n",
    "    import pandas as pd\n",
    "    print(\"Successfully imported pandas! (Version {})\".format(pd.__version__))\n",
    "    pd.options.display.max_rows = 10\n",
    "except ImportError:\n",
    "    print(\"Could not import pandas!\")\n",
    "\n",
    "    \n",
    "try:\n",
    "    from IPython.display import display\n",
    "    print(\"Successfully imported display from IPython.display!\")\n",
    "except ImportError:\n",
    "    print(\"Could not import display from IPython.display\")\n",
    "\n",
    "    \n",
    "try:\n",
    "    from zipfile import ZipFile\n",
    "    print(\"Successfully imported ZipFile from zipfile!\")\n",
    "except ImportError:\n",
    "    print(\"Could not import ZipFile from zipfile\")\n",
    "    \n",
    "try:\n",
    "    import os.path\n",
    "    print(\"Successfully imported os.path!\")\n",
    "except ImportError:\n",
    "    print(\"Could not import os.path\")"
   ]
  },
  {
   "cell_type": "markdown",
   "metadata": {},
   "source": [
    "## Extracting from a ZIP archive\n",
    "Let's create our first DataFrame using pandas! You can learn more about the DataFrame object from [the pandas documentation on DataFrames](http://pandas.pydata.org/pandas-docs/stable/generated/pandas.DataFrame.html). The data set that we will play around with comes from [Kaggle datasets](https://www.kaggle.com/datasets). The user Eric Grinstein crawled the [ign game review page]() for video game review data from the last 20 years, and put the [video game data on Kaggle](https://www.kaggle.com/egrinstein/20-years-of-games). The csv file `'ign.csv'` containing the data is zipped within the archive `'20-years-of-games.zip'`.\n",
    "\n",
    "**Run** the cell below to extract the csv file from the ZIP archive using [the zipfile module](https://docs.python.org/2/library/zipfile.html)."
   ]
  },
  {
   "cell_type": "code",
   "execution_count": 5,
   "metadata": {
    "collapsed": false
   },
   "outputs": [
    {
     "name": "stdout",
     "output_type": "stream",
     "text": [
      "The file ign.csv has been extracted!\n"
     ]
    }
   ],
   "source": [
    "# The dataset is compressed within the zip file in this directory called '20-years-of-games.zip'\n",
    "zip_file_name = '20-years-of-games.zip'\n",
    "\n",
    "# Create a ZipFile object using the zip file name\n",
    "zf = ZipFile(file=zip_file_name)\n",
    "\n",
    "# Within the zip file is a comma-separated values (csv) file containing the games data named 'ign.csv'\n",
    "in_file_name = 'ign.csv'\n",
    "\n",
    "# Extract the games data into the current directory from the zip file \n",
    "zf.extract(member=in_file_name)\n",
    "\n",
    "# Close the ZipFile object -- we won't need it any more\n",
    "zf.close()\n",
    "\n",
    "# Print a success message if the csv file was extracted from the zip file\n",
    "if os.path.isfile(in_file_name):\n",
    "    print(\"The file {} has been extracted!\".format(in_file_name))\n",
    "else:\n",
    "    print(\"Could not extract the file {}\".format(in_file_name))"
   ]
  },
  {
   "cell_type": "markdown",
   "metadata": {},
   "source": [
    "## Our first `DataFrame`!\n",
    "Now that we've extracted the file `'ign.csv'` from the ZIP archive containing the video game review data, we can create a `DataFrame` object from the csv file. The first line of the csv file contains the **feature** or **attribute** names, while each subsequent line in the file describes one **instance** or **input** of the data.\n",
    "\n",
    "**Run** the cell below to use `pd.read_csv` to read the csv into a `DataFrame` object that we will call `df`. Then, the first 5 lines of the `DataFrame` will be displayed using `df.head(5)`. For more information on these methods, the documentation for [`read_csv`](http://pandas.pydata.org/pandas-docs/stable/generated/pandas.read_csv.html) and [`head`](http://pandas.pydata.org/pandas-docs/stable/generated/pandas.DataFrame.head.html) is a good place to start!"
   ]
  },
  {
   "cell_type": "code",
   "execution_count": 6,
   "metadata": {
    "collapsed": false
   },
   "outputs": [
    {
     "data": {
      "text/html": [
       "<div>\n",
       "<table border=\"1\" class=\"dataframe\">\n",
       "  <thead>\n",
       "    <tr style=\"text-align: right;\">\n",
       "      <th></th>\n",
       "      <th>Unnamed: 0</th>\n",
       "      <th>score_phrase</th>\n",
       "      <th>title</th>\n",
       "      <th>url</th>\n",
       "      <th>platform</th>\n",
       "      <th>score</th>\n",
       "      <th>genre</th>\n",
       "      <th>editors_choice</th>\n",
       "      <th>release_year</th>\n",
       "      <th>release_month</th>\n",
       "      <th>release_day</th>\n",
       "    </tr>\n",
       "  </thead>\n",
       "  <tbody>\n",
       "    <tr>\n",
       "      <th>0</th>\n",
       "      <td>0</td>\n",
       "      <td>Amazing</td>\n",
       "      <td>LittleBigPlanet PS Vita</td>\n",
       "      <td>/games/littlebigplanet-vita/vita-98907</td>\n",
       "      <td>PlayStation Vita</td>\n",
       "      <td>9.0</td>\n",
       "      <td>Platformer</td>\n",
       "      <td>Y</td>\n",
       "      <td>2012</td>\n",
       "      <td>9</td>\n",
       "      <td>12</td>\n",
       "    </tr>\n",
       "    <tr>\n",
       "      <th>1</th>\n",
       "      <td>1</td>\n",
       "      <td>Amazing</td>\n",
       "      <td>LittleBigPlanet PS Vita -- Marvel Super Hero E...</td>\n",
       "      <td>/games/littlebigplanet-ps-vita-marvel-super-he...</td>\n",
       "      <td>PlayStation Vita</td>\n",
       "      <td>9.0</td>\n",
       "      <td>Platformer</td>\n",
       "      <td>Y</td>\n",
       "      <td>2012</td>\n",
       "      <td>9</td>\n",
       "      <td>12</td>\n",
       "    </tr>\n",
       "    <tr>\n",
       "      <th>2</th>\n",
       "      <td>2</td>\n",
       "      <td>Great</td>\n",
       "      <td>Splice: Tree of Life</td>\n",
       "      <td>/games/splice/ipad-141070</td>\n",
       "      <td>iPad</td>\n",
       "      <td>8.5</td>\n",
       "      <td>Puzzle</td>\n",
       "      <td>N</td>\n",
       "      <td>2012</td>\n",
       "      <td>9</td>\n",
       "      <td>12</td>\n",
       "    </tr>\n",
       "    <tr>\n",
       "      <th>3</th>\n",
       "      <td>3</td>\n",
       "      <td>Great</td>\n",
       "      <td>NHL 13</td>\n",
       "      <td>/games/nhl-13/xbox-360-128182</td>\n",
       "      <td>Xbox 360</td>\n",
       "      <td>8.5</td>\n",
       "      <td>Sports</td>\n",
       "      <td>N</td>\n",
       "      <td>2012</td>\n",
       "      <td>9</td>\n",
       "      <td>11</td>\n",
       "    </tr>\n",
       "    <tr>\n",
       "      <th>4</th>\n",
       "      <td>4</td>\n",
       "      <td>Great</td>\n",
       "      <td>NHL 13</td>\n",
       "      <td>/games/nhl-13/ps3-128181</td>\n",
       "      <td>PlayStation 3</td>\n",
       "      <td>8.5</td>\n",
       "      <td>Sports</td>\n",
       "      <td>N</td>\n",
       "      <td>2012</td>\n",
       "      <td>9</td>\n",
       "      <td>11</td>\n",
       "    </tr>\n",
       "  </tbody>\n",
       "</table>\n",
       "</div>"
      ],
      "text/plain": [
       "   Unnamed: 0 score_phrase                                              title  \\\n",
       "0           0      Amazing                            LittleBigPlanet PS Vita   \n",
       "1           1      Amazing  LittleBigPlanet PS Vita -- Marvel Super Hero E...   \n",
       "2           2        Great                               Splice: Tree of Life   \n",
       "3           3        Great                                             NHL 13   \n",
       "4           4        Great                                             NHL 13   \n",
       "\n",
       "                                                 url          platform  score  \\\n",
       "0             /games/littlebigplanet-vita/vita-98907  PlayStation Vita    9.0   \n",
       "1  /games/littlebigplanet-ps-vita-marvel-super-he...  PlayStation Vita    9.0   \n",
       "2                          /games/splice/ipad-141070              iPad    8.5   \n",
       "3                      /games/nhl-13/xbox-360-128182          Xbox 360    8.5   \n",
       "4                           /games/nhl-13/ps3-128181     PlayStation 3    8.5   \n",
       "\n",
       "        genre editors_choice  release_year  release_month  release_day  \n",
       "0  Platformer              Y          2012              9           12  \n",
       "1  Platformer              Y          2012              9           12  \n",
       "2      Puzzle              N          2012              9           12  \n",
       "3      Sports              N          2012              9           11  \n",
       "4      Sports              N          2012              9           11  "
      ]
     },
     "execution_count": 6,
     "metadata": {},
     "output_type": "execute_result"
    }
   ],
   "source": [
    "df = pd.read_csv(in_file_name)\n",
    "# display(df.head(5))\n",
    "df.head(5)\n",
    "# df[:5]"
   ]
  },
  {
   "cell_type": "markdown",
   "metadata": {},
   "source": [
    "## Removing non-useful features\n",
    "Our `DataFrame` has a lot of information for each game: a text descriptor for the game's rating called `'score_phrase'`, the `'title'` of the game, the `'url'` of the game review, the `'platform'` or console, the `'score'` from the review, *etc*. However, the first column of the `DataFrame`, the column labeled `'Unnamed: 0'` appears to simply repeat the [index of the instance](http://pandas.pydata.org/pandas-docs/stable/indexing.html). We don't really need to keep `Unnamed: 0`, because we can get the same information using the code `df.index.values`. So let's delete the first column:\n",
    "\n",
    "**Run** the cell below to delete the column `'Unnamed: 0'` from the `DataFrame` object `df`. Then, display the first few lines of the data frame to see what it looks like without `'Unnamed: 0'`"
   ]
  },
  {
   "cell_type": "code",
   "execution_count": 7,
   "metadata": {
    "collapsed": false,
    "scrolled": true
   },
   "outputs": [
    {
     "name": "stdout",
     "output_type": "stream",
     "text": [
      "Deleted the column 'Unnamed: 0' from df!\n"
     ]
    },
    {
     "data": {
      "text/html": [
       "<div>\n",
       "<table border=\"1\" class=\"dataframe\">\n",
       "  <thead>\n",
       "    <tr style=\"text-align: right;\">\n",
       "      <th></th>\n",
       "      <th>score_phrase</th>\n",
       "      <th>title</th>\n",
       "      <th>url</th>\n",
       "      <th>platform</th>\n",
       "      <th>score</th>\n",
       "      <th>genre</th>\n",
       "      <th>editors_choice</th>\n",
       "      <th>release_year</th>\n",
       "      <th>release_month</th>\n",
       "      <th>release_day</th>\n",
       "    </tr>\n",
       "  </thead>\n",
       "  <tbody>\n",
       "    <tr>\n",
       "      <th>0</th>\n",
       "      <td>Amazing</td>\n",
       "      <td>LittleBigPlanet PS Vita</td>\n",
       "      <td>/games/littlebigplanet-vita/vita-98907</td>\n",
       "      <td>PlayStation Vita</td>\n",
       "      <td>9.0</td>\n",
       "      <td>Platformer</td>\n",
       "      <td>Y</td>\n",
       "      <td>2012</td>\n",
       "      <td>9</td>\n",
       "      <td>12</td>\n",
       "    </tr>\n",
       "    <tr>\n",
       "      <th>1</th>\n",
       "      <td>Amazing</td>\n",
       "      <td>LittleBigPlanet PS Vita -- Marvel Super Hero E...</td>\n",
       "      <td>/games/littlebigplanet-ps-vita-marvel-super-he...</td>\n",
       "      <td>PlayStation Vita</td>\n",
       "      <td>9.0</td>\n",
       "      <td>Platformer</td>\n",
       "      <td>Y</td>\n",
       "      <td>2012</td>\n",
       "      <td>9</td>\n",
       "      <td>12</td>\n",
       "    </tr>\n",
       "    <tr>\n",
       "      <th>2</th>\n",
       "      <td>Great</td>\n",
       "      <td>Splice: Tree of Life</td>\n",
       "      <td>/games/splice/ipad-141070</td>\n",
       "      <td>iPad</td>\n",
       "      <td>8.5</td>\n",
       "      <td>Puzzle</td>\n",
       "      <td>N</td>\n",
       "      <td>2012</td>\n",
       "      <td>9</td>\n",
       "      <td>12</td>\n",
       "    </tr>\n",
       "    <tr>\n",
       "      <th>3</th>\n",
       "      <td>Great</td>\n",
       "      <td>NHL 13</td>\n",
       "      <td>/games/nhl-13/xbox-360-128182</td>\n",
       "      <td>Xbox 360</td>\n",
       "      <td>8.5</td>\n",
       "      <td>Sports</td>\n",
       "      <td>N</td>\n",
       "      <td>2012</td>\n",
       "      <td>9</td>\n",
       "      <td>11</td>\n",
       "    </tr>\n",
       "    <tr>\n",
       "      <th>4</th>\n",
       "      <td>Great</td>\n",
       "      <td>NHL 13</td>\n",
       "      <td>/games/nhl-13/ps3-128181</td>\n",
       "      <td>PlayStation 3</td>\n",
       "      <td>8.5</td>\n",
       "      <td>Sports</td>\n",
       "      <td>N</td>\n",
       "      <td>2012</td>\n",
       "      <td>9</td>\n",
       "      <td>11</td>\n",
       "    </tr>\n",
       "  </tbody>\n",
       "</table>\n",
       "</div>"
      ],
      "text/plain": [
       "  score_phrase                                              title  \\\n",
       "0      Amazing                            LittleBigPlanet PS Vita   \n",
       "1      Amazing  LittleBigPlanet PS Vita -- Marvel Super Hero E...   \n",
       "2        Great                               Splice: Tree of Life   \n",
       "3        Great                                             NHL 13   \n",
       "4        Great                                             NHL 13   \n",
       "\n",
       "                                                 url          platform  score  \\\n",
       "0             /games/littlebigplanet-vita/vita-98907  PlayStation Vita    9.0   \n",
       "1  /games/littlebigplanet-ps-vita-marvel-super-he...  PlayStation Vita    9.0   \n",
       "2                          /games/splice/ipad-141070              iPad    8.5   \n",
       "3                      /games/nhl-13/xbox-360-128182          Xbox 360    8.5   \n",
       "4                           /games/nhl-13/ps3-128181     PlayStation 3    8.5   \n",
       "\n",
       "        genre editors_choice  release_year  release_month  release_day  \n",
       "0  Platformer              Y          2012              9           12  \n",
       "1  Platformer              Y          2012              9           12  \n",
       "2      Puzzle              N          2012              9           12  \n",
       "3      Sports              N          2012              9           11  \n",
       "4      Sports              N          2012              9           11  "
      ]
     },
     "metadata": {},
     "output_type": "display_data"
    }
   ],
   "source": [
    "if 'Unnamed: 0' in df.columns:\n",
    "    del df['Unnamed: 0']\n",
    "    print(\"Deleted the column 'Unnamed: 0' from df!\")\n",
    "else:\n",
    "    print(\"The column 'Unnamed: 0' has already been deleted!\")\n",
    "display(df.head(5))"
   ]
  },
  {
   "cell_type": "markdown",
   "metadata": {},
   "source": [
    "## Indexing `DataFrame` and `Series` objects\n",
    "On the leftmost edge of the `DataFrame`, we can see the index. Each row (instance, input) in the `DataFrame` has an index. To access a specific row based on the index, we can use `loc` or `iloc`. Label-based indexing is done with `loc`, while integer-position based indexing is done with `iloc`. For example, looking above, we can see that the first row in the `DataFrame` contains the game LittleBigPlanet for PS Vita. Let's get the first row (index 0) using `loc`!\n",
    "\n",
    "**Run** the cell below to get the first row of the `DataFrame` using `df.loc[0]`. What does the result look like?"
   ]
  },
  {
   "cell_type": "code",
   "execution_count": 8,
   "metadata": {
    "collapsed": false,
    "scrolled": true
   },
   "outputs": [
    {
     "data": {
      "text/plain": [
       "score_phrase                                     Amazing\n",
       "title                            LittleBigPlanet PS Vita\n",
       "url               /games/littlebigplanet-vita/vita-98907\n",
       "platform                                PlayStation Vita\n",
       "score                                                  9\n",
       "genre                                         Platformer\n",
       "editors_choice                                         Y\n",
       "release_year                                        2012\n",
       "release_month                                          9\n",
       "release_day                                           12\n",
       "Name: 0, dtype: object"
      ]
     },
     "execution_count": 8,
     "metadata": {},
     "output_type": "execute_result"
    }
   ],
   "source": [
    "df.loc[0]"
   ]
  },
  {
   "cell_type": "markdown",
   "metadata": {},
   "source": [
    "The result doesn't look like a DataFrame! That's because one-dimensional objects in `pandas` are `Series` objects. `Series` objects are displayed as columns, with the indices shown on the left and the values shown on the right. Below the `Series` object, we see the name of the `Series` object and the `dtype` or data type of the `Series` object. The `dtype` of a `Series` object is chosen to accomodate all data within the `Series`.\n",
    "\n",
    "What if we don't want the entire first row of the DataFrame, but just the `score_phrase`?\n",
    "\n",
    "**Run** the cell below to see one way to get the `score_phrase` from the first row:"
   ]
  },
  {
   "cell_type": "code",
   "execution_count": 9,
   "metadata": {
    "collapsed": false
   },
   "outputs": [
    {
     "data": {
      "text/plain": [
       "'Amazing'"
      ]
     },
     "execution_count": 9,
     "metadata": {},
     "output_type": "execute_result"
    }
   ],
   "source": [
    "df.loc[0,'score_phrase']"
   ]
  },
  {
   "cell_type": "markdown",
   "metadata": {},
   "source": [
    "`'Amazing'`, right? There are a lot of ways we can get that `score_phrase` from the first row of the `DataFrame`.\n",
    "\n",
    "**Run** the cells below to see many other ways to get the same `score_phrase` from the first row of the `DataFrame`. Do you understand how each line works?"
   ]
  },
  {
   "cell_type": "code",
   "execution_count": 10,
   "metadata": {
    "collapsed": false
   },
   "outputs": [
    {
     "data": {
      "text/plain": [
       "'Amazing'"
      ]
     },
     "execution_count": 10,
     "metadata": {},
     "output_type": "execute_result"
    }
   ],
   "source": [
    "df.iloc[0,0]"
   ]
  },
  {
   "cell_type": "code",
   "execution_count": 11,
   "metadata": {
    "collapsed": false
   },
   "outputs": [
    {
     "data": {
      "text/plain": [
       "'Amazing'"
      ]
     },
     "execution_count": 11,
     "metadata": {},
     "output_type": "execute_result"
    }
   ],
   "source": [
    "df.loc[0].loc['score_phrase']"
   ]
  },
  {
   "cell_type": "code",
   "execution_count": 12,
   "metadata": {
    "collapsed": false
   },
   "outputs": [
    {
     "data": {
      "text/plain": [
       "'Amazing'"
      ]
     },
     "execution_count": 12,
     "metadata": {},
     "output_type": "execute_result"
    }
   ],
   "source": [
    "df['score_phrase'][0]"
   ]
  },
  {
   "cell_type": "code",
   "execution_count": 13,
   "metadata": {
    "collapsed": false
   },
   "outputs": [
    {
     "data": {
      "text/plain": [
       "'Amazing'"
      ]
     },
     "execution_count": 13,
     "metadata": {},
     "output_type": "execute_result"
    }
   ],
   "source": [
    "df.iloc[0].iloc[0]"
   ]
  },
  {
   "cell_type": "code",
   "execution_count": 14,
   "metadata": {
    "collapsed": false
   },
   "outputs": [
    {
     "data": {
      "text/plain": [
       "'Amazing'"
      ]
     },
     "execution_count": 14,
     "metadata": {},
     "output_type": "execute_result"
    }
   ],
   "source": [
    "df['score_phrase'].loc[0]"
   ]
  },
  {
   "cell_type": "markdown",
   "metadata": {},
   "source": [
    "We can also get multiple rows from the `DataFrame` by doing `numpy`-like slicing: `df.iloc[lower:upper]` will take a slice of the `DataFrame` object from the lower bound `lower` up to (but not including) the upper bound `upper`. Be careful! We get different results by slicing the `DataFrame` with `loc` and with `iloc`.\n",
    "\n",
    "When slicing a `DataFrame` using `iloc` (the *integer-based* position indexing) the lower bound is included, while the upper bound is excluded.\n",
    "\n",
    "**Run** the cell below to get the first three rows of the `DataFrame` using `df.iloc[0:3]`"
   ]
  },
  {
   "cell_type": "code",
   "execution_count": 15,
   "metadata": {
    "collapsed": false,
    "scrolled": true
   },
   "outputs": [
    {
     "data": {
      "text/html": [
       "<div>\n",
       "<table border=\"1\" class=\"dataframe\">\n",
       "  <thead>\n",
       "    <tr style=\"text-align: right;\">\n",
       "      <th></th>\n",
       "      <th>score_phrase</th>\n",
       "      <th>title</th>\n",
       "      <th>url</th>\n",
       "      <th>platform</th>\n",
       "      <th>score</th>\n",
       "      <th>genre</th>\n",
       "      <th>editors_choice</th>\n",
       "      <th>release_year</th>\n",
       "      <th>release_month</th>\n",
       "      <th>release_day</th>\n",
       "    </tr>\n",
       "  </thead>\n",
       "  <tbody>\n",
       "    <tr>\n",
       "      <th>0</th>\n",
       "      <td>Amazing</td>\n",
       "      <td>LittleBigPlanet PS Vita</td>\n",
       "      <td>/games/littlebigplanet-vita/vita-98907</td>\n",
       "      <td>PlayStation Vita</td>\n",
       "      <td>9.0</td>\n",
       "      <td>Platformer</td>\n",
       "      <td>Y</td>\n",
       "      <td>2012</td>\n",
       "      <td>9</td>\n",
       "      <td>12</td>\n",
       "    </tr>\n",
       "    <tr>\n",
       "      <th>1</th>\n",
       "      <td>Amazing</td>\n",
       "      <td>LittleBigPlanet PS Vita -- Marvel Super Hero E...</td>\n",
       "      <td>/games/littlebigplanet-ps-vita-marvel-super-he...</td>\n",
       "      <td>PlayStation Vita</td>\n",
       "      <td>9.0</td>\n",
       "      <td>Platformer</td>\n",
       "      <td>Y</td>\n",
       "      <td>2012</td>\n",
       "      <td>9</td>\n",
       "      <td>12</td>\n",
       "    </tr>\n",
       "    <tr>\n",
       "      <th>2</th>\n",
       "      <td>Great</td>\n",
       "      <td>Splice: Tree of Life</td>\n",
       "      <td>/games/splice/ipad-141070</td>\n",
       "      <td>iPad</td>\n",
       "      <td>8.5</td>\n",
       "      <td>Puzzle</td>\n",
       "      <td>N</td>\n",
       "      <td>2012</td>\n",
       "      <td>9</td>\n",
       "      <td>12</td>\n",
       "    </tr>\n",
       "  </tbody>\n",
       "</table>\n",
       "</div>"
      ],
      "text/plain": [
       "  score_phrase                                              title  \\\n",
       "0      Amazing                            LittleBigPlanet PS Vita   \n",
       "1      Amazing  LittleBigPlanet PS Vita -- Marvel Super Hero E...   \n",
       "2        Great                               Splice: Tree of Life   \n",
       "\n",
       "                                                 url          platform  score  \\\n",
       "0             /games/littlebigplanet-vita/vita-98907  PlayStation Vita    9.0   \n",
       "1  /games/littlebigplanet-ps-vita-marvel-super-he...  PlayStation Vita    9.0   \n",
       "2                          /games/splice/ipad-141070              iPad    8.5   \n",
       "\n",
       "        genre editors_choice  release_year  release_month  release_day  \n",
       "0  Platformer              Y          2012              9           12  \n",
       "1  Platformer              Y          2012              9           12  \n",
       "2      Puzzle              N          2012              9           12  "
      ]
     },
     "execution_count": 15,
     "metadata": {},
     "output_type": "execute_result"
    }
   ],
   "source": [
    "df.iloc[0:3]"
   ]
  },
  {
   "cell_type": "markdown",
   "metadata": {},
   "source": [
    "The lower bound (0) is *included*, while the upper bound (3) is *excluded*.\n",
    "\n",
    "However, when slicing a `DataFrame` using `loc` (the *label-based* indexing), the starting and upper bounds are **both** included!\n",
    "\n",
    "**Run** the cell below to see what happens when we call `df.loc[0:3]`"
   ]
  },
  {
   "cell_type": "code",
   "execution_count": 16,
   "metadata": {
    "collapsed": false
   },
   "outputs": [
    {
     "data": {
      "text/html": [
       "<div>\n",
       "<table border=\"1\" class=\"dataframe\">\n",
       "  <thead>\n",
       "    <tr style=\"text-align: right;\">\n",
       "      <th></th>\n",
       "      <th>score_phrase</th>\n",
       "      <th>title</th>\n",
       "      <th>url</th>\n",
       "      <th>platform</th>\n",
       "      <th>score</th>\n",
       "      <th>genre</th>\n",
       "      <th>editors_choice</th>\n",
       "      <th>release_year</th>\n",
       "      <th>release_month</th>\n",
       "      <th>release_day</th>\n",
       "    </tr>\n",
       "  </thead>\n",
       "  <tbody>\n",
       "    <tr>\n",
       "      <th>0</th>\n",
       "      <td>Amazing</td>\n",
       "      <td>LittleBigPlanet PS Vita</td>\n",
       "      <td>/games/littlebigplanet-vita/vita-98907</td>\n",
       "      <td>PlayStation Vita</td>\n",
       "      <td>9.0</td>\n",
       "      <td>Platformer</td>\n",
       "      <td>Y</td>\n",
       "      <td>2012</td>\n",
       "      <td>9</td>\n",
       "      <td>12</td>\n",
       "    </tr>\n",
       "    <tr>\n",
       "      <th>1</th>\n",
       "      <td>Amazing</td>\n",
       "      <td>LittleBigPlanet PS Vita -- Marvel Super Hero E...</td>\n",
       "      <td>/games/littlebigplanet-ps-vita-marvel-super-he...</td>\n",
       "      <td>PlayStation Vita</td>\n",
       "      <td>9.0</td>\n",
       "      <td>Platformer</td>\n",
       "      <td>Y</td>\n",
       "      <td>2012</td>\n",
       "      <td>9</td>\n",
       "      <td>12</td>\n",
       "    </tr>\n",
       "    <tr>\n",
       "      <th>2</th>\n",
       "      <td>Great</td>\n",
       "      <td>Splice: Tree of Life</td>\n",
       "      <td>/games/splice/ipad-141070</td>\n",
       "      <td>iPad</td>\n",
       "      <td>8.5</td>\n",
       "      <td>Puzzle</td>\n",
       "      <td>N</td>\n",
       "      <td>2012</td>\n",
       "      <td>9</td>\n",
       "      <td>12</td>\n",
       "    </tr>\n",
       "    <tr>\n",
       "      <th>3</th>\n",
       "      <td>Great</td>\n",
       "      <td>NHL 13</td>\n",
       "      <td>/games/nhl-13/xbox-360-128182</td>\n",
       "      <td>Xbox 360</td>\n",
       "      <td>8.5</td>\n",
       "      <td>Sports</td>\n",
       "      <td>N</td>\n",
       "      <td>2012</td>\n",
       "      <td>9</td>\n",
       "      <td>11</td>\n",
       "    </tr>\n",
       "  </tbody>\n",
       "</table>\n",
       "</div>"
      ],
      "text/plain": [
       "  score_phrase                                              title  \\\n",
       "0      Amazing                            LittleBigPlanet PS Vita   \n",
       "1      Amazing  LittleBigPlanet PS Vita -- Marvel Super Hero E...   \n",
       "2        Great                               Splice: Tree of Life   \n",
       "3        Great                                             NHL 13   \n",
       "\n",
       "                                                 url          platform  score  \\\n",
       "0             /games/littlebigplanet-vita/vita-98907  PlayStation Vita    9.0   \n",
       "1  /games/littlebigplanet-ps-vita-marvel-super-he...  PlayStation Vita    9.0   \n",
       "2                          /games/splice/ipad-141070              iPad    8.5   \n",
       "3                      /games/nhl-13/xbox-360-128182          Xbox 360    8.5   \n",
       "\n",
       "        genre editors_choice  release_year  release_month  release_day  \n",
       "0  Platformer              Y          2012              9           12  \n",
       "1  Platformer              Y          2012              9           12  \n",
       "2      Puzzle              N          2012              9           12  \n",
       "3      Sports              N          2012              9           11  "
      ]
     },
     "execution_count": 16,
     "metadata": {},
     "output_type": "execute_result"
    }
   ],
   "source": [
    "df.loc[0:3]"
   ]
  },
  {
   "cell_type": "markdown",
   "metadata": {},
   "source": [
    "Both the lower bound (0) and the upper bound (3) are *included* with *label-based* indexing."
   ]
  },
  {
   "cell_type": "markdown",
   "metadata": {},
   "source": [
    "# Exercises - Part 1\n",
    "Now it's your turn to play with `pandas` to answer questions using the ign game review data set. If you're not sure how to do something, feel free to ask questions, read up the `pandas` documentation, or refer to the code examples above! For this section, the `pandas` documentation on [indexing and slicing](http://pandas.pydata.org/pandas-docs/stable/indexing.html) might be most useful."
   ]
  },
  {
   "cell_type": "markdown",
   "metadata": {},
   "source": [
    "## Question 1:\n",
    "What is the `'title'` of the game in the row with index 144?"
   ]
  },
  {
   "cell_type": "code",
   "execution_count": 17,
   "metadata": {
    "collapsed": false
   },
   "outputs": [
    {
     "data": {
      "text/plain": [
       "'SunFlowers'"
      ]
     },
     "execution_count": 17,
     "metadata": {},
     "output_type": "execute_result"
    }
   ],
   "source": [
    "df['title'][144]\n",
    "# Alternate methods\n",
    "# df.loc[144]['title']\n",
    "# df.loc[144].loc['title']\n",
    "# df.loc[144].iloc[1]\n",
    "# df.iloc[144].iloc[1]\n",
    "# df.iloc[144].loc['title']\n",
    "# df.iloc[144]['title']"
   ]
  },
  {
   "cell_type": "markdown",
   "metadata": {},
   "source": [
    "## Question 2:\n",
    "What is the `'platform'` of the game in the row with index 2353?"
   ]
  },
  {
   "cell_type": "code",
   "execution_count": 18,
   "metadata": {
    "collapsed": false
   },
   "outputs": [
    {
     "data": {
      "text/plain": [
       "'Game Boy Color'"
      ]
     },
     "execution_count": 18,
     "metadata": {},
     "output_type": "execute_result"
    }
   ],
   "source": [
    "df['platform'][2353]"
   ]
  },
  {
   "cell_type": "markdown",
   "metadata": {},
   "source": [
    "## Question 3:\n",
    "What do rows 500 up to (but not including) row 505 look like? Were any of those games `'editors_choice'`? Were any of those games `'Awful'`?"
   ]
  },
  {
   "cell_type": "code",
   "execution_count": 19,
   "metadata": {
    "collapsed": false
   },
   "outputs": [
    {
     "name": "stdout",
     "output_type": "stream",
     "text": [
      "Rows from index 500 up to 505: \n"
     ]
    },
    {
     "data": {
      "text/html": [
       "<div>\n",
       "<table border=\"1\" class=\"dataframe\">\n",
       "  <thead>\n",
       "    <tr style=\"text-align: right;\">\n",
       "      <th></th>\n",
       "      <th>score_phrase</th>\n",
       "      <th>title</th>\n",
       "      <th>url</th>\n",
       "      <th>platform</th>\n",
       "      <th>score</th>\n",
       "      <th>genre</th>\n",
       "      <th>editors_choice</th>\n",
       "      <th>release_year</th>\n",
       "      <th>release_month</th>\n",
       "      <th>release_day</th>\n",
       "    </tr>\n",
       "  </thead>\n",
       "  <tbody>\n",
       "    <tr>\n",
       "      <th>500</th>\n",
       "      <td>Amazing</td>\n",
       "      <td>NHL FaceOff</td>\n",
       "      <td>/games/nhl-faceoff/ps-555</td>\n",
       "      <td>PlayStation</td>\n",
       "      <td>9.0</td>\n",
       "      <td>Sports</td>\n",
       "      <td>N</td>\n",
       "      <td>1996</td>\n",
       "      <td>11</td>\n",
       "      <td>25</td>\n",
       "    </tr>\n",
       "    <tr>\n",
       "      <th>501</th>\n",
       "      <td>Great</td>\n",
       "      <td>NFL GameDay</td>\n",
       "      <td>/games/nfl-gameday/ps-553</td>\n",
       "      <td>PlayStation</td>\n",
       "      <td>8.0</td>\n",
       "      <td>Sports</td>\n",
       "      <td>N</td>\n",
       "      <td>1996</td>\n",
       "      <td>11</td>\n",
       "      <td>25</td>\n",
       "    </tr>\n",
       "    <tr>\n",
       "      <th>502</th>\n",
       "      <td>Awful</td>\n",
       "      <td>Kileak: The DNA Imperative</td>\n",
       "      <td>/games/kileak-the-dna-imperative/ps-718</td>\n",
       "      <td>PlayStation</td>\n",
       "      <td>3.0</td>\n",
       "      <td>Action</td>\n",
       "      <td>N</td>\n",
       "      <td>1996</td>\n",
       "      <td>11</td>\n",
       "      <td>25</td>\n",
       "    </tr>\n",
       "    <tr>\n",
       "      <th>503</th>\n",
       "      <td>Awful</td>\n",
       "      <td>Raven Project</td>\n",
       "      <td>/games/raven-project/ps-184</td>\n",
       "      <td>PlayStation</td>\n",
       "      <td>3.0</td>\n",
       "      <td>Action</td>\n",
       "      <td>N</td>\n",
       "      <td>1996</td>\n",
       "      <td>11</td>\n",
       "      <td>25</td>\n",
       "    </tr>\n",
       "    <tr>\n",
       "      <th>504</th>\n",
       "      <td>Okay</td>\n",
       "      <td>Silverload</td>\n",
       "      <td>/games/silverload/ps-585</td>\n",
       "      <td>PlayStation</td>\n",
       "      <td>6.0</td>\n",
       "      <td>Adventure</td>\n",
       "      <td>N</td>\n",
       "      <td>1996</td>\n",
       "      <td>11</td>\n",
       "      <td>25</td>\n",
       "    </tr>\n",
       "  </tbody>\n",
       "</table>\n",
       "</div>"
      ],
      "text/plain": [
       "    score_phrase                       title  \\\n",
       "500      Amazing                 NHL FaceOff   \n",
       "501        Great                 NFL GameDay   \n",
       "502        Awful  Kileak: The DNA Imperative   \n",
       "503        Awful               Raven Project   \n",
       "504         Okay                  Silverload   \n",
       "\n",
       "                                         url     platform  score      genre  \\\n",
       "500                /games/nhl-faceoff/ps-555  PlayStation    9.0     Sports   \n",
       "501                /games/nfl-gameday/ps-553  PlayStation    8.0     Sports   \n",
       "502  /games/kileak-the-dna-imperative/ps-718  PlayStation    3.0     Action   \n",
       "503              /games/raven-project/ps-184  PlayStation    3.0     Action   \n",
       "504                 /games/silverload/ps-585  PlayStation    6.0  Adventure   \n",
       "\n",
       "    editors_choice  release_year  release_month  release_day  \n",
       "500              N          1996             11           25  \n",
       "501              N          1996             11           25  \n",
       "502              N          1996             11           25  \n",
       "503              N          1996             11           25  \n",
       "504              N          1996             11           25  "
      ]
     },
     "metadata": {},
     "output_type": "display_data"
    },
    {
     "name": "stdout",
     "output_type": "stream",
     "text": [
      "\n",
      "Editors Choice games from index 500 up to 505:\n",
      "No editors choice games\n",
      "\n",
      "Awful games from index 500 up to 505:\n"
     ]
    },
    {
     "data": {
      "text/html": [
       "<div>\n",
       "<table border=\"1\" class=\"dataframe\">\n",
       "  <thead>\n",
       "    <tr style=\"text-align: right;\">\n",
       "      <th></th>\n",
       "      <th>score_phrase</th>\n",
       "      <th>title</th>\n",
       "      <th>url</th>\n",
       "      <th>platform</th>\n",
       "      <th>score</th>\n",
       "      <th>genre</th>\n",
       "      <th>editors_choice</th>\n",
       "      <th>release_year</th>\n",
       "      <th>release_month</th>\n",
       "      <th>release_day</th>\n",
       "    </tr>\n",
       "  </thead>\n",
       "  <tbody>\n",
       "    <tr>\n",
       "      <th>502</th>\n",
       "      <td>Awful</td>\n",
       "      <td>Kileak: The DNA Imperative</td>\n",
       "      <td>/games/kileak-the-dna-imperative/ps-718</td>\n",
       "      <td>PlayStation</td>\n",
       "      <td>3.0</td>\n",
       "      <td>Action</td>\n",
       "      <td>N</td>\n",
       "      <td>1996</td>\n",
       "      <td>11</td>\n",
       "      <td>25</td>\n",
       "    </tr>\n",
       "    <tr>\n",
       "      <th>503</th>\n",
       "      <td>Awful</td>\n",
       "      <td>Raven Project</td>\n",
       "      <td>/games/raven-project/ps-184</td>\n",
       "      <td>PlayStation</td>\n",
       "      <td>3.0</td>\n",
       "      <td>Action</td>\n",
       "      <td>N</td>\n",
       "      <td>1996</td>\n",
       "      <td>11</td>\n",
       "      <td>25</td>\n",
       "    </tr>\n",
       "  </tbody>\n",
       "</table>\n",
       "</div>"
      ],
      "text/plain": [
       "    score_phrase                       title  \\\n",
       "502        Awful  Kileak: The DNA Imperative   \n",
       "503        Awful               Raven Project   \n",
       "\n",
       "                                         url     platform  score   genre  \\\n",
       "502  /games/kileak-the-dna-imperative/ps-718  PlayStation    3.0  Action   \n",
       "503              /games/raven-project/ps-184  PlayStation    3.0  Action   \n",
       "\n",
       "    editors_choice  release_year  release_month  release_day  \n",
       "502              N          1996             11           25  \n",
       "503              N          1996             11           25  "
      ]
     },
     "metadata": {},
     "output_type": "display_data"
    }
   ],
   "source": [
    "temp = df.iloc[500:505]\n",
    "editors_choice = temp[temp['editors_choice'] == 'Y']\n",
    "awful_games = temp[temp['score_phrase'] == 'Awful']\n",
    "print(\"Rows from index 500 up to 505: \")\n",
    "display(temp)\n",
    "print(\"\\nEditors Choice games from index 500 up to 505:\")\n",
    "if (editors_choice.empty):\n",
    "    print(\"No editors choice games\")\n",
    "else:        \n",
    "    display(editors_choice)\n",
    "print(\"\\nAwful games from index 500 up to 505:\")\n",
    "display(awful_games)"
   ]
  },
  {
   "cell_type": "markdown",
   "metadata": {},
   "source": [
    "## Question 4:\n",
    "What does `df.iloc[0:100:10]` return? How would you describe integer-based slicing when there are three numbers in the square brackets?"
   ]
  },
  {
   "cell_type": "code",
   "execution_count": 20,
   "metadata": {
    "collapsed": false,
    "scrolled": true
   },
   "outputs": [
    {
     "data": {
      "text/html": [
       "<div>\n",
       "<table border=\"1\" class=\"dataframe\">\n",
       "  <thead>\n",
       "    <tr style=\"text-align: right;\">\n",
       "      <th></th>\n",
       "      <th>score_phrase</th>\n",
       "      <th>title</th>\n",
       "      <th>url</th>\n",
       "      <th>platform</th>\n",
       "      <th>score</th>\n",
       "      <th>genre</th>\n",
       "      <th>editors_choice</th>\n",
       "      <th>release_year</th>\n",
       "      <th>release_month</th>\n",
       "      <th>release_day</th>\n",
       "    </tr>\n",
       "  </thead>\n",
       "  <tbody>\n",
       "    <tr>\n",
       "      <th>0</th>\n",
       "      <td>Amazing</td>\n",
       "      <td>LittleBigPlanet PS Vita</td>\n",
       "      <td>/games/littlebigplanet-vita/vita-98907</td>\n",
       "      <td>PlayStation Vita</td>\n",
       "      <td>9.0</td>\n",
       "      <td>Platformer</td>\n",
       "      <td>Y</td>\n",
       "      <td>2012</td>\n",
       "      <td>9</td>\n",
       "      <td>12</td>\n",
       "    </tr>\n",
       "    <tr>\n",
       "      <th>10</th>\n",
       "      <td>Good</td>\n",
       "      <td>Tekken Tag Tournament 2</td>\n",
       "      <td>/games/tekken-tag-tournament-2/ps3-124584</td>\n",
       "      <td>PlayStation 3</td>\n",
       "      <td>7.5</td>\n",
       "      <td>Fighting</td>\n",
       "      <td>N</td>\n",
       "      <td>2012</td>\n",
       "      <td>9</td>\n",
       "      <td>11</td>\n",
       "    </tr>\n",
       "    <tr>\n",
       "      <th>20</th>\n",
       "      <td>Good</td>\n",
       "      <td>JoJo's Bizarre Adventure HD</td>\n",
       "      <td>/games/jojos-bizarre-adventure/ps3-137896</td>\n",
       "      <td>PlayStation 3</td>\n",
       "      <td>7.0</td>\n",
       "      <td>Fighting</td>\n",
       "      <td>N</td>\n",
       "      <td>2012</td>\n",
       "      <td>9</td>\n",
       "      <td>3</td>\n",
       "    </tr>\n",
       "    <tr>\n",
       "      <th>30</th>\n",
       "      <td>Amazing</td>\n",
       "      <td>The Walking Dead: The Game -- Episode 3: Long ...</td>\n",
       "      <td>/games/the-walking-dead-season-1-episode-3/mac...</td>\n",
       "      <td>Macintosh</td>\n",
       "      <td>9.0</td>\n",
       "      <td>Adventure</td>\n",
       "      <td>Y</td>\n",
       "      <td>2012</td>\n",
       "      <td>8</td>\n",
       "      <td>28</td>\n",
       "    </tr>\n",
       "    <tr>\n",
       "      <th>40</th>\n",
       "      <td>Great</td>\n",
       "      <td>Rock Band Blitz</td>\n",
       "      <td>/games/rock-band-blitz/xbox-360-131273</td>\n",
       "      <td>Xbox 360</td>\n",
       "      <td>8.5</td>\n",
       "      <td>Music</td>\n",
       "      <td>Y</td>\n",
       "      <td>2012</td>\n",
       "      <td>8</td>\n",
       "      <td>27</td>\n",
       "    </tr>\n",
       "    <tr>\n",
       "      <th>50</th>\n",
       "      <td>Amazing</td>\n",
       "      <td>NBA 2K13</td>\n",
       "      <td>/games/nba-2k13/xbox-360-132080</td>\n",
       "      <td>Xbox 360</td>\n",
       "      <td>9.1</td>\n",
       "      <td>Sports</td>\n",
       "      <td>Y</td>\n",
       "      <td>2012</td>\n",
       "      <td>9</td>\n",
       "      <td>27</td>\n",
       "    </tr>\n",
       "    <tr>\n",
       "      <th>60</th>\n",
       "      <td>Amazing</td>\n",
       "      <td>NBA 2K13</td>\n",
       "      <td>/games/nba-2k13/ps3-132077</td>\n",
       "      <td>PlayStation 3</td>\n",
       "      <td>9.1</td>\n",
       "      <td>Sports</td>\n",
       "      <td>Y</td>\n",
       "      <td>2012</td>\n",
       "      <td>9</td>\n",
       "      <td>27</td>\n",
       "    </tr>\n",
       "    <tr>\n",
       "      <th>70</th>\n",
       "      <td>Okay</td>\n",
       "      <td>Edna &amp; Harvey: Harvey's New Eyes</td>\n",
       "      <td>/games/edna-harvey-harveys-new-eyes/pc-145776</td>\n",
       "      <td>PC</td>\n",
       "      <td>6.0</td>\n",
       "      <td>Adventure</td>\n",
       "      <td>N</td>\n",
       "      <td>2012</td>\n",
       "      <td>10</td>\n",
       "      <td>26</td>\n",
       "    </tr>\n",
       "    <tr>\n",
       "      <th>80</th>\n",
       "      <td>Great</td>\n",
       "      <td>Anomaly: Warzone Earth</td>\n",
       "      <td>/games/anomaly-warzone-earth/ps3-138479</td>\n",
       "      <td>PlayStation 3</td>\n",
       "      <td>8.2</td>\n",
       "      <td>Action</td>\n",
       "      <td>N</td>\n",
       "      <td>2012</td>\n",
       "      <td>9</td>\n",
       "      <td>23</td>\n",
       "    </tr>\n",
       "    <tr>\n",
       "      <th>90</th>\n",
       "      <td>Good</td>\n",
       "      <td>Crazy Taxi</td>\n",
       "      <td>/games/crazy-taxi/iphone-144755</td>\n",
       "      <td>iPhone</td>\n",
       "      <td>7.1</td>\n",
       "      <td>Racing, Action</td>\n",
       "      <td>N</td>\n",
       "      <td>2012</td>\n",
       "      <td>10</td>\n",
       "      <td>11</td>\n",
       "    </tr>\n",
       "  </tbody>\n",
       "</table>\n",
       "</div>"
      ],
      "text/plain": [
       "   score_phrase                                              title  \\\n",
       "0       Amazing                            LittleBigPlanet PS Vita   \n",
       "10         Good                            Tekken Tag Tournament 2   \n",
       "20         Good                        JoJo's Bizarre Adventure HD   \n",
       "30      Amazing  The Walking Dead: The Game -- Episode 3: Long ...   \n",
       "40        Great                                    Rock Band Blitz   \n",
       "50      Amazing                                           NBA 2K13   \n",
       "60      Amazing                                           NBA 2K13   \n",
       "70         Okay                   Edna & Harvey: Harvey's New Eyes   \n",
       "80        Great                             Anomaly: Warzone Earth   \n",
       "90         Good                                         Crazy Taxi   \n",
       "\n",
       "                                                  url          platform  \\\n",
       "0              /games/littlebigplanet-vita/vita-98907  PlayStation Vita   \n",
       "10          /games/tekken-tag-tournament-2/ps3-124584     PlayStation 3   \n",
       "20          /games/jojos-bizarre-adventure/ps3-137896     PlayStation 3   \n",
       "30  /games/the-walking-dead-season-1-episode-3/mac...         Macintosh   \n",
       "40             /games/rock-band-blitz/xbox-360-131273          Xbox 360   \n",
       "50                    /games/nba-2k13/xbox-360-132080          Xbox 360   \n",
       "60                         /games/nba-2k13/ps3-132077     PlayStation 3   \n",
       "70      /games/edna-harvey-harveys-new-eyes/pc-145776                PC   \n",
       "80            /games/anomaly-warzone-earth/ps3-138479     PlayStation 3   \n",
       "90                    /games/crazy-taxi/iphone-144755            iPhone   \n",
       "\n",
       "    score           genre editors_choice  release_year  release_month  \\\n",
       "0     9.0      Platformer              Y          2012              9   \n",
       "10    7.5        Fighting              N          2012              9   \n",
       "20    7.0        Fighting              N          2012              9   \n",
       "30    9.0       Adventure              Y          2012              8   \n",
       "40    8.5           Music              Y          2012              8   \n",
       "50    9.1          Sports              Y          2012              9   \n",
       "60    9.1          Sports              Y          2012              9   \n",
       "70    6.0       Adventure              N          2012             10   \n",
       "80    8.2          Action              N          2012              9   \n",
       "90    7.1  Racing, Action              N          2012             10   \n",
       "\n",
       "    release_day  \n",
       "0            12  \n",
       "10           11  \n",
       "20            3  \n",
       "30           28  \n",
       "40           27  \n",
       "50           27  \n",
       "60           27  \n",
       "70           26  \n",
       "80           23  \n",
       "90           11  "
      ]
     },
     "execution_count": 20,
     "metadata": {},
     "output_type": "execute_result"
    }
   ],
   "source": [
    "df.iloc[0:100:10] # Returns evey 10th row in the first 100 rows"
   ]
  },
  {
   "cell_type": "markdown",
   "metadata": {},
   "source": [
    "## Question 5:\n",
    "What does `df.iloc[:8]` return? How would you describe integer-based slicing when no lower bound is specified?"
   ]
  },
  {
   "cell_type": "code",
   "execution_count": 21,
   "metadata": {
    "collapsed": false,
    "scrolled": true
   },
   "outputs": [
    {
     "data": {
      "text/html": [
       "<div>\n",
       "<table border=\"1\" class=\"dataframe\">\n",
       "  <thead>\n",
       "    <tr style=\"text-align: right;\">\n",
       "      <th></th>\n",
       "      <th>score_phrase</th>\n",
       "      <th>title</th>\n",
       "      <th>url</th>\n",
       "      <th>platform</th>\n",
       "      <th>score</th>\n",
       "      <th>genre</th>\n",
       "      <th>editors_choice</th>\n",
       "      <th>release_year</th>\n",
       "      <th>release_month</th>\n",
       "      <th>release_day</th>\n",
       "    </tr>\n",
       "  </thead>\n",
       "  <tbody>\n",
       "    <tr>\n",
       "      <th>0</th>\n",
       "      <td>Amazing</td>\n",
       "      <td>LittleBigPlanet PS Vita</td>\n",
       "      <td>/games/littlebigplanet-vita/vita-98907</td>\n",
       "      <td>PlayStation Vita</td>\n",
       "      <td>9.0</td>\n",
       "      <td>Platformer</td>\n",
       "      <td>Y</td>\n",
       "      <td>2012</td>\n",
       "      <td>9</td>\n",
       "      <td>12</td>\n",
       "    </tr>\n",
       "    <tr>\n",
       "      <th>1</th>\n",
       "      <td>Amazing</td>\n",
       "      <td>LittleBigPlanet PS Vita -- Marvel Super Hero E...</td>\n",
       "      <td>/games/littlebigplanet-ps-vita-marvel-super-he...</td>\n",
       "      <td>PlayStation Vita</td>\n",
       "      <td>9.0</td>\n",
       "      <td>Platformer</td>\n",
       "      <td>Y</td>\n",
       "      <td>2012</td>\n",
       "      <td>9</td>\n",
       "      <td>12</td>\n",
       "    </tr>\n",
       "    <tr>\n",
       "      <th>2</th>\n",
       "      <td>Great</td>\n",
       "      <td>Splice: Tree of Life</td>\n",
       "      <td>/games/splice/ipad-141070</td>\n",
       "      <td>iPad</td>\n",
       "      <td>8.5</td>\n",
       "      <td>Puzzle</td>\n",
       "      <td>N</td>\n",
       "      <td>2012</td>\n",
       "      <td>9</td>\n",
       "      <td>12</td>\n",
       "    </tr>\n",
       "    <tr>\n",
       "      <th>3</th>\n",
       "      <td>Great</td>\n",
       "      <td>NHL 13</td>\n",
       "      <td>/games/nhl-13/xbox-360-128182</td>\n",
       "      <td>Xbox 360</td>\n",
       "      <td>8.5</td>\n",
       "      <td>Sports</td>\n",
       "      <td>N</td>\n",
       "      <td>2012</td>\n",
       "      <td>9</td>\n",
       "      <td>11</td>\n",
       "    </tr>\n",
       "    <tr>\n",
       "      <th>4</th>\n",
       "      <td>Great</td>\n",
       "      <td>NHL 13</td>\n",
       "      <td>/games/nhl-13/ps3-128181</td>\n",
       "      <td>PlayStation 3</td>\n",
       "      <td>8.5</td>\n",
       "      <td>Sports</td>\n",
       "      <td>N</td>\n",
       "      <td>2012</td>\n",
       "      <td>9</td>\n",
       "      <td>11</td>\n",
       "    </tr>\n",
       "    <tr>\n",
       "      <th>5</th>\n",
       "      <td>Good</td>\n",
       "      <td>Total War Battles: Shogun</td>\n",
       "      <td>/games/total-war-battles-shogun/mac-142565</td>\n",
       "      <td>Macintosh</td>\n",
       "      <td>7.0</td>\n",
       "      <td>Strategy</td>\n",
       "      <td>N</td>\n",
       "      <td>2012</td>\n",
       "      <td>9</td>\n",
       "      <td>11</td>\n",
       "    </tr>\n",
       "    <tr>\n",
       "      <th>6</th>\n",
       "      <td>Awful</td>\n",
       "      <td>Double Dragon: Neon</td>\n",
       "      <td>/games/double-dragon-neon/xbox-360-131320</td>\n",
       "      <td>Xbox 360</td>\n",
       "      <td>3.0</td>\n",
       "      <td>Fighting</td>\n",
       "      <td>N</td>\n",
       "      <td>2012</td>\n",
       "      <td>9</td>\n",
       "      <td>11</td>\n",
       "    </tr>\n",
       "    <tr>\n",
       "      <th>7</th>\n",
       "      <td>Amazing</td>\n",
       "      <td>Guild Wars 2</td>\n",
       "      <td>/games/guild-wars-2/pc-896298</td>\n",
       "      <td>PC</td>\n",
       "      <td>9.0</td>\n",
       "      <td>RPG</td>\n",
       "      <td>Y</td>\n",
       "      <td>2012</td>\n",
       "      <td>9</td>\n",
       "      <td>11</td>\n",
       "    </tr>\n",
       "  </tbody>\n",
       "</table>\n",
       "</div>"
      ],
      "text/plain": [
       "  score_phrase                                              title  \\\n",
       "0      Amazing                            LittleBigPlanet PS Vita   \n",
       "1      Amazing  LittleBigPlanet PS Vita -- Marvel Super Hero E...   \n",
       "2        Great                               Splice: Tree of Life   \n",
       "3        Great                                             NHL 13   \n",
       "4        Great                                             NHL 13   \n",
       "5         Good                          Total War Battles: Shogun   \n",
       "6        Awful                                Double Dragon: Neon   \n",
       "7      Amazing                                       Guild Wars 2   \n",
       "\n",
       "                                                 url          platform  score  \\\n",
       "0             /games/littlebigplanet-vita/vita-98907  PlayStation Vita    9.0   \n",
       "1  /games/littlebigplanet-ps-vita-marvel-super-he...  PlayStation Vita    9.0   \n",
       "2                          /games/splice/ipad-141070              iPad    8.5   \n",
       "3                      /games/nhl-13/xbox-360-128182          Xbox 360    8.5   \n",
       "4                           /games/nhl-13/ps3-128181     PlayStation 3    8.5   \n",
       "5         /games/total-war-battles-shogun/mac-142565         Macintosh    7.0   \n",
       "6          /games/double-dragon-neon/xbox-360-131320          Xbox 360    3.0   \n",
       "7                      /games/guild-wars-2/pc-896298                PC    9.0   \n",
       "\n",
       "        genre editors_choice  release_year  release_month  release_day  \n",
       "0  Platformer              Y          2012              9           12  \n",
       "1  Platformer              Y          2012              9           12  \n",
       "2      Puzzle              N          2012              9           12  \n",
       "3      Sports              N          2012              9           11  \n",
       "4      Sports              N          2012              9           11  \n",
       "5    Strategy              N          2012              9           11  \n",
       "6    Fighting              N          2012              9           11  \n",
       "7         RPG              Y          2012              9           11  "
      ]
     },
     "execution_count": 21,
     "metadata": {},
     "output_type": "execute_result"
    }
   ],
   "source": [
    "df.iloc[:8] # Returns first 8 rows"
   ]
  },
  {
   "cell_type": "markdown",
   "metadata": {},
   "source": [
    "## Question 6:\n",
    "What does `df.iloc[-3:]` return? How would you describe integer-based slicing with a negative lower bound and no upper bound?"
   ]
  },
  {
   "cell_type": "code",
   "execution_count": 22,
   "metadata": {
    "collapsed": false
   },
   "outputs": [
    {
     "data": {
      "text/html": [
       "<div>\n",
       "<table border=\"1\" class=\"dataframe\">\n",
       "  <thead>\n",
       "    <tr style=\"text-align: right;\">\n",
       "      <th></th>\n",
       "      <th>score_phrase</th>\n",
       "      <th>title</th>\n",
       "      <th>url</th>\n",
       "      <th>platform</th>\n",
       "      <th>score</th>\n",
       "      <th>genre</th>\n",
       "      <th>editors_choice</th>\n",
       "      <th>release_year</th>\n",
       "      <th>release_month</th>\n",
       "      <th>release_day</th>\n",
       "    </tr>\n",
       "  </thead>\n",
       "  <tbody>\n",
       "    <tr>\n",
       "      <th>18622</th>\n",
       "      <td>Mediocre</td>\n",
       "      <td>Star Ocean: Integrity and Faithlessness</td>\n",
       "      <td>/games/star-ocean-5/ps4-20035681</td>\n",
       "      <td>PlayStation 4</td>\n",
       "      <td>5.8</td>\n",
       "      <td>RPG</td>\n",
       "      <td>N</td>\n",
       "      <td>2016</td>\n",
       "      <td>6</td>\n",
       "      <td>28</td>\n",
       "    </tr>\n",
       "    <tr>\n",
       "      <th>18623</th>\n",
       "      <td>Masterpiece</td>\n",
       "      <td>Inside</td>\n",
       "      <td>/games/inside-playdead/xbox-one-121435</td>\n",
       "      <td>Xbox One</td>\n",
       "      <td>10.0</td>\n",
       "      <td>Adventure</td>\n",
       "      <td>Y</td>\n",
       "      <td>2016</td>\n",
       "      <td>6</td>\n",
       "      <td>28</td>\n",
       "    </tr>\n",
       "    <tr>\n",
       "      <th>18624</th>\n",
       "      <td>Masterpiece</td>\n",
       "      <td>Inside</td>\n",
       "      <td>/games/inside-playdead/pc-20055740</td>\n",
       "      <td>PC</td>\n",
       "      <td>10.0</td>\n",
       "      <td>Adventure</td>\n",
       "      <td>Y</td>\n",
       "      <td>2016</td>\n",
       "      <td>6</td>\n",
       "      <td>28</td>\n",
       "    </tr>\n",
       "  </tbody>\n",
       "</table>\n",
       "</div>"
      ],
      "text/plain": [
       "      score_phrase                                    title  \\\n",
       "18622     Mediocre  Star Ocean: Integrity and Faithlessness   \n",
       "18623  Masterpiece                                   Inside   \n",
       "18624  Masterpiece                                   Inside   \n",
       "\n",
       "                                          url       platform  score  \\\n",
       "18622        /games/star-ocean-5/ps4-20035681  PlayStation 4    5.8   \n",
       "18623  /games/inside-playdead/xbox-one-121435       Xbox One   10.0   \n",
       "18624      /games/inside-playdead/pc-20055740             PC   10.0   \n",
       "\n",
       "           genre editors_choice  release_year  release_month  release_day  \n",
       "18622        RPG              N          2016              6           28  \n",
       "18623  Adventure              Y          2016              6           28  \n",
       "18624  Adventure              Y          2016              6           28  "
      ]
     },
     "execution_count": 22,
     "metadata": {},
     "output_type": "execute_result"
    }
   ],
   "source": [
    "df.iloc[-3:] # Returns last three rows"
   ]
  },
  {
   "cell_type": "markdown",
   "metadata": {},
   "source": [
    "## How much data do we have?\n",
    "So we have our `DataFrame` object and we're able to slice it using `loc` and `iloc`, but we might be wondering exactly how much data is in the dataset. We can call  `len(df)` method to count the number of rows in the `DataFrame` object.\n",
    "\n",
    "**Run** the cell below to count the number of rows in the `DataFrame` object."
   ]
  },
  {
   "cell_type": "code",
   "execution_count": 23,
   "metadata": {
    "collapsed": false
   },
   "outputs": [
    {
     "name": "stdout",
     "output_type": "stream",
     "text": [
      "There are 18625 rows in the DataFrame\n"
     ]
    }
   ],
   "source": [
    "print(\"There are {} rows in the DataFrame\".format(len(df)))"
   ]
  },
  {
   "cell_type": "markdown",
   "metadata": {},
   "source": [
    "[The method `df.count()`](http://pandas.pydata.org/pandas-docs/version/0.17.0/generated/pandas.DataFrame.count.html) gives you even more information than `len(df)`! For each feature (column) in the `DataFrame` object, `df.count()` will count up the number of non-NA/null values for that feature. This is useful to get an idea of how many missing values are in your `DataFrame`, if any.\n",
    "\n",
    "**Run** the cell below to count the number of non-NA/null values for each feature using `df.count()`. Is there a feature with missing values?"
   ]
  },
  {
   "cell_type": "code",
   "execution_count": 24,
   "metadata": {
    "collapsed": false,
    "scrolled": true
   },
   "outputs": [
    {
     "data": {
      "text/plain": [
       "score_phrase      18625\n",
       "title             18625\n",
       "url               18625\n",
       "platform          18625\n",
       "score             18625\n",
       "genre             18589\n",
       "editors_choice    18625\n",
       "release_year      18625\n",
       "release_month     18625\n",
       "release_day       18625\n",
       "dtype: int64"
      ]
     },
     "metadata": {},
     "output_type": "display_data"
    }
   ],
   "source": [
    "display(df.count())"
   ]
  },
  {
   "cell_type": "markdown",
   "metadata": {},
   "source": [
    "## More about the `Series` and `DataFrame` objects\n",
    "**Note:** This section assumes that you are familiar with basic data structures, in particular Python dictionaries. If you need to brush up on this aspect of Python, check out the [Python tutorial on data structures](https://docs.python.org/3/tutorial/datastructures.html)!\n",
    "\n",
    "The `DataFrame` object is a two-dimensional labeled data structure. As we saw above, each row is labeled with an index and each column is labeled with a feature name. Recall that if we take a single row from the DataFrame, it becomes a `Series` object. Similarly, if we take a single column of the `DataFrame` object, we would get a `Series` object. Thus, we can think of the `DataFrame` as a Python dictionary. The key-value pairs for this dictionary are the feature names and the `Series` objects. You can retrieve a single `Series` object from a `DataFrame` the same way you would retrieve a value from a dictionary: `df['title']` would retrieve the column `'title'` from `df` as a `Series` object. Let's try it!\n",
    "\n",
    "**Run** the cell below to print the first ten lines of the `Series` object containing the all of the game titles:"
   ]
  },
  {
   "cell_type": "code",
   "execution_count": 25,
   "metadata": {
    "collapsed": false
   },
   "outputs": [
    {
     "data": {
      "text/plain": [
       "0                              LittleBigPlanet PS Vita\n",
       "1    LittleBigPlanet PS Vita -- Marvel Super Hero E...\n",
       "2                                 Splice: Tree of Life\n",
       "3                                               NHL 13\n",
       "4                                               NHL 13\n",
       "5                            Total War Battles: Shogun\n",
       "6                                  Double Dragon: Neon\n",
       "7                                         Guild Wars 2\n",
       "8                                  Double Dragon: Neon\n",
       "9                            Total War Battles: Shogun\n",
       "Name: title, dtype: object"
      ]
     },
     "metadata": {},
     "output_type": "display_data"
    }
   ],
   "source": [
    "display(df['title'].head(10))"
   ]
  },
  {
   "cell_type": "markdown",
   "metadata": {
    "collapsed": true
   },
   "source": [
    "We also see the `Name` and `dtype` (data type) of the `Series` object. It looks like `title` has a data type of `object` -- we'll learn more about that in a bit.\n",
    "\n",
    "Suppose we don't just want the `title` from `df`. What if we want both the `title` and `score`? We can access more than one feature of a `DataFrame` object with a list of keys rather than a single key:\n",
    "\n",
    "**Run** the cell below to print the first ten lines of just the `'title'` and `'score'` features of the `DataFrame`."
   ]
  },
  {
   "cell_type": "code",
   "execution_count": 26,
   "metadata": {
    "collapsed": false
   },
   "outputs": [
    {
     "data": {
      "text/html": [
       "<div>\n",
       "<table border=\"1\" class=\"dataframe\">\n",
       "  <thead>\n",
       "    <tr style=\"text-align: right;\">\n",
       "      <th></th>\n",
       "      <th>title</th>\n",
       "      <th>score</th>\n",
       "    </tr>\n",
       "  </thead>\n",
       "  <tbody>\n",
       "    <tr>\n",
       "      <th>0</th>\n",
       "      <td>LittleBigPlanet PS Vita</td>\n",
       "      <td>9.0</td>\n",
       "    </tr>\n",
       "    <tr>\n",
       "      <th>1</th>\n",
       "      <td>LittleBigPlanet PS Vita -- Marvel Super Hero E...</td>\n",
       "      <td>9.0</td>\n",
       "    </tr>\n",
       "    <tr>\n",
       "      <th>2</th>\n",
       "      <td>Splice: Tree of Life</td>\n",
       "      <td>8.5</td>\n",
       "    </tr>\n",
       "    <tr>\n",
       "      <th>3</th>\n",
       "      <td>NHL 13</td>\n",
       "      <td>8.5</td>\n",
       "    </tr>\n",
       "    <tr>\n",
       "      <th>4</th>\n",
       "      <td>NHL 13</td>\n",
       "      <td>8.5</td>\n",
       "    </tr>\n",
       "    <tr>\n",
       "      <th>5</th>\n",
       "      <td>Total War Battles: Shogun</td>\n",
       "      <td>7.0</td>\n",
       "    </tr>\n",
       "    <tr>\n",
       "      <th>6</th>\n",
       "      <td>Double Dragon: Neon</td>\n",
       "      <td>3.0</td>\n",
       "    </tr>\n",
       "    <tr>\n",
       "      <th>7</th>\n",
       "      <td>Guild Wars 2</td>\n",
       "      <td>9.0</td>\n",
       "    </tr>\n",
       "    <tr>\n",
       "      <th>8</th>\n",
       "      <td>Double Dragon: Neon</td>\n",
       "      <td>3.0</td>\n",
       "    </tr>\n",
       "    <tr>\n",
       "      <th>9</th>\n",
       "      <td>Total War Battles: Shogun</td>\n",
       "      <td>7.0</td>\n",
       "    </tr>\n",
       "  </tbody>\n",
       "</table>\n",
       "</div>"
      ],
      "text/plain": [
       "                                               title  score\n",
       "0                            LittleBigPlanet PS Vita    9.0\n",
       "1  LittleBigPlanet PS Vita -- Marvel Super Hero E...    9.0\n",
       "2                               Splice: Tree of Life    8.5\n",
       "3                                             NHL 13    8.5\n",
       "4                                             NHL 13    8.5\n",
       "5                          Total War Battles: Shogun    7.0\n",
       "6                                Double Dragon: Neon    3.0\n",
       "7                                       Guild Wars 2    9.0\n",
       "8                                Double Dragon: Neon    3.0\n",
       "9                          Total War Battles: Shogun    7.0"
      ]
     },
     "metadata": {},
     "output_type": "display_data"
    }
   ],
   "source": [
    "display(df[['title','score']].head(10))"
   ]
  },
  {
   "cell_type": "markdown",
   "metadata": {},
   "source": [
    "We accessed two features from the `DataFrame` object, and got a new `DataFrame` object as a result! That's a neat feature of `pandas`: one-dimensional labeled data structures become `Series` objects, while two-dimensional labeled data structures remain as `DataFrame` objects!"
   ]
  },
  {
   "cell_type": "markdown",
   "metadata": {},
   "source": [
    "## Categorical Data\n",
    "A `DataFrame` often contains `Series` where the variable takes on one of a small, discrete set of values. Some examples include:\n",
    "\n",
    "  - day of the week {Monday, Tuesday, Wednesday, Thursday, Friday, Saturday, Sunday}\n",
    "  - a person's blood type {A+, A-, B+, B-, AB+, AB-, O+, O-}\n",
    "  - a movie's rating {G, PG, PG-13, R, NC-17}\n",
    "  - number of stars for a review {zero, one, two, three, four}\n",
    "  - *Can you think of other similar examples?*\n",
    "\n",
    "\n",
    "The `'categorical'` data type allows pandas to efficiently store a `Series` object that encodes data like in the examples above. Some examples of using the `'categorical'` data type are:\n",
    "\n",
    "  - it uses less memory than the `'object'` data type, as long as the number of categories is *much less than* the length of the `Series`\n",
    "  - it can be sorted on *logical* order (e.g. zero, one, two, three, four) rather than *lexical* or alphabetical order (e.g. four, one, three, two, zero)\n",
    "  - other statistical methods are well-suited to categorical variables.\n",
    "  \n",
    "The [pandas documentation on categorical data](http://pandas.pydata.org/pandas-docs/stable/categorical.html#) has a lot more information, so feel free to explore more!\n",
    "\n",
    "**Run** the cell below to compare memory usage when a `Series` object has relatively few vs. relatively many categories."
   ]
  },
  {
   "cell_type": "code",
   "execution_count": 27,
   "metadata": {
    "collapsed": false
   },
   "outputs": [
    {
     "name": "stdout",
     "output_type": "stream",
     "text": [
      "df['genre'] has 112 distinct categories among 18625 values\n",
      "df['genre'] takes up 149000 bytes of memory as an 'object'\n",
      "df['genre'] takes up  19521 bytes of memory as a  'category'\n",
      "\n",
      "df['url'] has 18577 distinct categories among 18625 values\n",
      "df['url'] takes up 149000 bytes of memory as an 'object'\n",
      "df['url'] takes up 185866 bytes of memory as a  'category'\n",
      "\n"
     ]
    }
   ],
   "source": [
    "# Comparison of memory usage when the number of categories is SMALL:\n",
    "print('df[\\'genre\\'] has {} distinct categories among {} values'.format(\n",
    "        len(df['genre'].astype('category').cat.categories), len(df['genre'])))\n",
    "print('df[\\'genre\\'] takes up {:6d} bytes of memory as an \\'object\\''.format(df['genre'].astype('object').nbytes))\n",
    "print('df[\\'genre\\'] takes up {:6d} bytes of memory as a  \\'category\\'\\n'.format(df['genre'].astype('category').nbytes))\n",
    "\n",
    "# Comparison of memory usage when the number of categories is LARGE:\n",
    "print('df[\\'url\\'] has {} distinct categories among {} values'.format(\n",
    "        len(df['url'].astype('category').cat.categories), len(df['url'])))\n",
    "print('df[\\'url\\'] takes up {:6d} bytes of memory as an \\'object\\''.format(df['url'].astype('object').nbytes))\n",
    "print('df[\\'url\\'] takes up {:6d} bytes of memory as a  \\'category\\'\\n'.format(df['url'].astype('category').nbytes))"
   ]
  },
  {
   "cell_type": "markdown",
   "metadata": {},
   "source": [
    "So it looks like we only get the memory advantage of the `'category'` dtype over the `'object'` dtype for features with a relatively small amount of distinct categories. From our data set, it looks like the features `'score_phrase'`, `'platform'`, `'genre'`, and `'editors_choice'` are good candidates to convert from the `'object'` dtype to the `'category'` dtype.\n",
    "\n",
    "**Run** the cell below to perform these dtype conversions, and then check to see if they converted correctly by printing `df.dtypes`:"
   ]
  },
  {
   "cell_type": "code",
   "execution_count": 28,
   "metadata": {
    "collapsed": false
   },
   "outputs": [
    {
     "name": "stdout",
     "output_type": "stream",
     "text": [
      "score_phrase      category\n",
      "title               object\n",
      "url                 object\n",
      "platform          category\n",
      "score              float64\n",
      "genre             category\n",
      "editors_choice    category\n",
      "release_year         int64\n",
      "release_month        int64\n",
      "release_day          int64\n",
      "dtype: object\n"
     ]
    }
   ],
   "source": [
    "df['genre'] = df['genre'].astype('category')\n",
    "df['platform'] = df['platform'].astype('category')\n",
    "df['score_phrase'] = df['score_phrase'].astype('category')\n",
    "df['editors_choice'] = df['editors_choice'].astype('category')\n",
    "print(df.dtypes)"
   ]
  },
  {
   "cell_type": "markdown",
   "metadata": {
    "collapsed": false
   },
   "source": [
    "## Descriptive statistics on a `Series` object\n",
    "\n",
    "Now that we know a bit more about the `Series` and `DataFrame` objects in `pandas`, let's start to explore the utility to keeping our data within these structures. The main quantitative feature in our data set is the `'score'` column. Let's do some descriptive statistics on that feature!\n",
    "\n",
    "### Computing the mean\n",
    "\n",
    "The mean or average is one measure of central tendency for a data set. The mean of a set of values is the sum of all values, divided by the number of values. We can compute the mean of the `Series` object `df['score']` using [the `sum()` method](http://pandas.pydata.org/pandas-docs/stable/generated/pandas.Series.sum.html) to add up all the scores, and then dividing by the length of the `Series` object\n",
    "\n",
    "**Run** the cell below to store the `Series` object `df['score']` into the variable `scores`, and then compute the mean."
   ]
  },
  {
   "cell_type": "code",
   "execution_count": 29,
   "metadata": {
    "collapsed": false
   },
   "outputs": [
    {
     "name": "stdout",
     "output_type": "stream",
     "text": [
      "The mean of the scores is 6.95\n"
     ]
    }
   ],
   "source": [
    "scores = df['score']\n",
    "print(\"The mean of the scores is {:.2f}\".format(scores.sum() / len(scores)))"
   ]
  },
  {
   "cell_type": "markdown",
   "metadata": {
    "collapsed": true
   },
   "source": [
    "Computing the mean was pretty easy, but there's an even simpler way! We can use [the `mean()` method](http://pandas.pydata.org/pandas-docs/stable/generated/pandas.Series.mean.html) to compute the same thing!\n",
    "\n",
    "**Run** the cell below to compute the mean of `scores` using the `mean()` method. Do we find the same result?"
   ]
  },
  {
   "cell_type": "code",
   "execution_count": 30,
   "metadata": {
    "collapsed": false
   },
   "outputs": [
    {
     "name": "stdout",
     "output_type": "stream",
     "text": [
      "The mean of the scores is 6.95\n"
     ]
    }
   ],
   "source": [
    "print(\"The mean of the scores is {:.2f}\".format(scores.mean()))"
   ]
  },
  {
   "cell_type": "markdown",
   "metadata": {
    "collapsed": true
   },
   "source": [
    "### Computing the median\n",
    "The median is another measure of central tendency for a data set. When the data is arranged from smallest to largest, the median is the value right in the middle of the ordered data set. With an *odd* number of values in the data set $(2n+1)$, one value will be right in the middle, with $n$ values above it and $n$ values below it. With an *even* number of values in the data set $(2n)$, *two* values will be in the middle, with $n-1$ values above them and $n-1$ values below them: in this case, the median is actually the average of the two values right in the middle.\n",
    "\n",
    "**Run** the cell below to compute the median by sorting `scores` in ascending order with the method [sort_values()](http://pandas.pydata.org/pandas-docs/stable/generated/pandas.Series.sort_values.html#pandas.Series.sort_values) and then finding the value(s) right in the middle of the data set with [the iloc indexer](http://pandas.pydata.org/pandas-docs/version/0.17.1/generated/pandas.DataFrame.iloc.html)."
   ]
  },
  {
   "cell_type": "code",
   "execution_count": 31,
   "metadata": {
    "collapsed": false
   },
   "outputs": [
    {
     "name": "stdout",
     "output_type": "stream",
     "text": [
      "The median of the scores is 7.30\n"
     ]
    }
   ],
   "source": [
    "scores = scores.sort_values(ascending=True)\n",
    "n = len(scores)\n",
    "if n % 2 == 1:\n",
    "    median = scores.iloc[(n-1)//2]\n",
    "else:\n",
    "    median = (scores.iloc[n//2 - 1] + scores.iloc[n//2]) / 2.0\n",
    "print(\"The median of the scores is {:.2f}\".format(median))"
   ]
  },
  {
   "cell_type": "markdown",
   "metadata": {},
   "source": [
    "That was a little more work than computing the mean, but we can be even more efficient! We can use [the `median()` method](http://pandas.pydata.org/pandas-docs/stable/generated/pandas.Series.median.html) to compute the same thing!\n",
    "\n",
    "**Run** the cell below to compute the median of scores using the `median()` method. Do we find the same result?"
   ]
  },
  {
   "cell_type": "code",
   "execution_count": 32,
   "metadata": {
    "collapsed": false
   },
   "outputs": [
    {
     "name": "stdout",
     "output_type": "stream",
     "text": [
      "The median of the scores is 7.30\n"
     ]
    }
   ],
   "source": [
    "print(\"The median of the scores is {:.2f}\".format(scores.median()))"
   ]
  },
  {
   "cell_type": "markdown",
   "metadata": {},
   "source": [
    "### Finding the maximum and minimum values\n",
    "The maximum and the minimum values within a data set give us an idea of the range for that feature. Because we sorted `scores` in an eariler cell, the smallest (minimum) value within `scores` is at the start of the `Series` object, while the largest (maximum) value within `scores` is at the end of the `Series` object. Recall that the indexing convention in Python starts with 0 as the first index, and we can use the index -1 to retrieve the last item.\n",
    "\n",
    "**Run** the cell below to print the minimum and maximum values from the sorted `scores` object."
   ]
  },
  {
   "cell_type": "code",
   "execution_count": 33,
   "metadata": {
    "collapsed": false
   },
   "outputs": [
    {
     "name": "stdout",
     "output_type": "stream",
     "text": [
      "The minimum and maximum scores are 0.5 and 10.0, respectively\n"
     ]
    }
   ],
   "source": [
    "print(\"The minimum and maximum scores are {:.1f} and {:.1f}, respectively\".format(scores.iloc[0],scores.iloc[-1]))"
   ]
  },
  {
   "cell_type": "markdown",
   "metadata": {},
   "source": [
    "We can also find the minimum and maximum values using [the `min()` method](http://pandas.pydata.org/pandas-docs/stable/generated/pandas.Series.min.html) and [the `max()` method](http://pandas.pydata.org/pandas-docs/stable/generated/pandas.Series.max.html), which don't require the `Series` object to be sorted.\n",
    "\n",
    "**Run** the cell below to print the minimum and maximum values using the `min()` and `max()` methods. Do we find the same results?"
   ]
  },
  {
   "cell_type": "code",
   "execution_count": 34,
   "metadata": {
    "collapsed": false
   },
   "outputs": [
    {
     "name": "stdout",
     "output_type": "stream",
     "text": [
      "The minimum and maximum scores are 0.5 and 10.0, respectively\n"
     ]
    }
   ],
   "source": [
    "print(\"The minimum and maximum scores are {:.1f} and {:.1f}, respectively\".format(scores.min(),scores.max()))"
   ]
  },
  {
   "cell_type": "markdown",
   "metadata": {},
   "source": [
    "## Selecting instances\n",
    "We have lots of video game data, but we might not want to average all the scores together. We may want to select certain instances of the `DataFrame` before processing the data. To select certain instances, we can use [Boolean indexing](http://pandas.pydata.org/pandas-docs/stable/indexing.html#boolean-indexing).\n",
    "\n",
    "Before we get into Boolean indexing, we should see what happens when we compute a logical expression using a `Series` object. For example, let's see what happens when we check whether the `'editors_choice'` feature is equal to `'Y'`.\n",
    "\n",
    "**Run** the cell below to compute the logical expression `df['editors_choice'] == 'Y'`. What is the result?"
   ]
  },
  {
   "cell_type": "code",
   "execution_count": 35,
   "metadata": {
    "collapsed": false
   },
   "outputs": [
    {
     "data": {
      "text/plain": [
       "0         True\n",
       "1         True\n",
       "2        False\n",
       "3        False\n",
       "4        False\n",
       "         ...  \n",
       "18620    False\n",
       "18621     True\n",
       "18622    False\n",
       "18623     True\n",
       "18624     True\n",
       "Name: editors_choice, dtype: bool"
      ]
     },
     "execution_count": 35,
     "metadata": {},
     "output_type": "execute_result"
    }
   ],
   "source": [
    "df['editors_choice'] == 'Y'"
   ]
  },
  {
   "cell_type": "markdown",
   "metadata": {},
   "source": [
    "The logical expression above returns a `Series` object of dtype `bool`, with a value of `True` at the indices where `df['editors_choice']` is equal to `'Y'`, and `False` at the indices where `df['editors_choice']` is equal to `'N'`. \n",
    "\n",
    "**Run** the cell below to see what happens when we index a `DataFrame` object using this `Series` object."
   ]
  },
  {
   "cell_type": "code",
   "execution_count": 36,
   "metadata": {
    "collapsed": false
   },
   "outputs": [
    {
     "data": {
      "text/html": [
       "<div>\n",
       "<table border=\"1\" class=\"dataframe\">\n",
       "  <thead>\n",
       "    <tr style=\"text-align: right;\">\n",
       "      <th></th>\n",
       "      <th>score_phrase</th>\n",
       "      <th>title</th>\n",
       "      <th>url</th>\n",
       "      <th>platform</th>\n",
       "      <th>score</th>\n",
       "      <th>genre</th>\n",
       "      <th>editors_choice</th>\n",
       "      <th>release_year</th>\n",
       "      <th>release_month</th>\n",
       "      <th>release_day</th>\n",
       "    </tr>\n",
       "  </thead>\n",
       "  <tbody>\n",
       "    <tr>\n",
       "      <th>0</th>\n",
       "      <td>Amazing</td>\n",
       "      <td>LittleBigPlanet PS Vita</td>\n",
       "      <td>/games/littlebigplanet-vita/vita-98907</td>\n",
       "      <td>PlayStation Vita</td>\n",
       "      <td>9.0</td>\n",
       "      <td>Platformer</td>\n",
       "      <td>Y</td>\n",
       "      <td>2012</td>\n",
       "      <td>9</td>\n",
       "      <td>12</td>\n",
       "    </tr>\n",
       "    <tr>\n",
       "      <th>1</th>\n",
       "      <td>Amazing</td>\n",
       "      <td>LittleBigPlanet PS Vita -- Marvel Super Hero E...</td>\n",
       "      <td>/games/littlebigplanet-ps-vita-marvel-super-he...</td>\n",
       "      <td>PlayStation Vita</td>\n",
       "      <td>9.0</td>\n",
       "      <td>Platformer</td>\n",
       "      <td>Y</td>\n",
       "      <td>2012</td>\n",
       "      <td>9</td>\n",
       "      <td>12</td>\n",
       "    </tr>\n",
       "    <tr>\n",
       "      <th>7</th>\n",
       "      <td>Amazing</td>\n",
       "      <td>Guild Wars 2</td>\n",
       "      <td>/games/guild-wars-2/pc-896298</td>\n",
       "      <td>PC</td>\n",
       "      <td>9.0</td>\n",
       "      <td>RPG</td>\n",
       "      <td>Y</td>\n",
       "      <td>2012</td>\n",
       "      <td>9</td>\n",
       "      <td>11</td>\n",
       "    </tr>\n",
       "    <tr>\n",
       "      <th>13</th>\n",
       "      <td>Amazing</td>\n",
       "      <td>Mark of the Ninja</td>\n",
       "      <td>/games/mark-of-the-ninja-135615/xbox-360-129276</td>\n",
       "      <td>Xbox 360</td>\n",
       "      <td>9.0</td>\n",
       "      <td>Action, Adventure</td>\n",
       "      <td>Y</td>\n",
       "      <td>2012</td>\n",
       "      <td>9</td>\n",
       "      <td>7</td>\n",
       "    </tr>\n",
       "    <tr>\n",
       "      <th>14</th>\n",
       "      <td>Amazing</td>\n",
       "      <td>Mark of the Ninja</td>\n",
       "      <td>/games/mark-of-the-ninja-135615/pc-143761</td>\n",
       "      <td>PC</td>\n",
       "      <td>9.0</td>\n",
       "      <td>Action, Adventure</td>\n",
       "      <td>Y</td>\n",
       "      <td>2012</td>\n",
       "      <td>9</td>\n",
       "      <td>7</td>\n",
       "    </tr>\n",
       "    <tr>\n",
       "      <th>...</th>\n",
       "      <td>...</td>\n",
       "      <td>...</td>\n",
       "      <td>...</td>\n",
       "      <td>...</td>\n",
       "      <td>...</td>\n",
       "      <td>...</td>\n",
       "      <td>...</td>\n",
       "      <td>...</td>\n",
       "      <td>...</td>\n",
       "      <td>...</td>\n",
       "    </tr>\n",
       "    <tr>\n",
       "      <th>18615</th>\n",
       "      <td>Amazing</td>\n",
       "      <td>Zero Time Dilemma</td>\n",
       "      <td>/games/zero-time-dilemma/vita-20039757</td>\n",
       "      <td>PlayStation Vita</td>\n",
       "      <td>9.2</td>\n",
       "      <td>Adventure</td>\n",
       "      <td>Y</td>\n",
       "      <td>2016</td>\n",
       "      <td>6</td>\n",
       "      <td>29</td>\n",
       "    </tr>\n",
       "    <tr>\n",
       "      <th>18618</th>\n",
       "      <td>Amazing</td>\n",
       "      <td>Starbound</td>\n",
       "      <td>/games/starbound-2016/pc-128879</td>\n",
       "      <td>PC</td>\n",
       "      <td>9.1</td>\n",
       "      <td>Action</td>\n",
       "      <td>Y</td>\n",
       "      <td>2016</td>\n",
       "      <td>7</td>\n",
       "      <td>28</td>\n",
       "    </tr>\n",
       "    <tr>\n",
       "      <th>18621</th>\n",
       "      <td>Amazing</td>\n",
       "      <td>LEGO Star Wars: The Force Awakens</td>\n",
       "      <td>/games/lego-star-wars-the-force-awakens/ps4-20...</td>\n",
       "      <td>PlayStation 4</td>\n",
       "      <td>9.0</td>\n",
       "      <td>Action, Adventure</td>\n",
       "      <td>Y</td>\n",
       "      <td>2016</td>\n",
       "      <td>6</td>\n",
       "      <td>29</td>\n",
       "    </tr>\n",
       "    <tr>\n",
       "      <th>18623</th>\n",
       "      <td>Masterpiece</td>\n",
       "      <td>Inside</td>\n",
       "      <td>/games/inside-playdead/xbox-one-121435</td>\n",
       "      <td>Xbox One</td>\n",
       "      <td>10.0</td>\n",
       "      <td>Adventure</td>\n",
       "      <td>Y</td>\n",
       "      <td>2016</td>\n",
       "      <td>6</td>\n",
       "      <td>28</td>\n",
       "    </tr>\n",
       "    <tr>\n",
       "      <th>18624</th>\n",
       "      <td>Masterpiece</td>\n",
       "      <td>Inside</td>\n",
       "      <td>/games/inside-playdead/pc-20055740</td>\n",
       "      <td>PC</td>\n",
       "      <td>10.0</td>\n",
       "      <td>Adventure</td>\n",
       "      <td>Y</td>\n",
       "      <td>2016</td>\n",
       "      <td>6</td>\n",
       "      <td>28</td>\n",
       "    </tr>\n",
       "  </tbody>\n",
       "</table>\n",
       "<p>3517 rows × 10 columns</p>\n",
       "</div>"
      ],
      "text/plain": [
       "      score_phrase                                              title  \\\n",
       "0          Amazing                            LittleBigPlanet PS Vita   \n",
       "1          Amazing  LittleBigPlanet PS Vita -- Marvel Super Hero E...   \n",
       "7          Amazing                                       Guild Wars 2   \n",
       "13         Amazing                                  Mark of the Ninja   \n",
       "14         Amazing                                  Mark of the Ninja   \n",
       "...            ...                                                ...   \n",
       "18615      Amazing                                  Zero Time Dilemma   \n",
       "18618      Amazing                                          Starbound   \n",
       "18621      Amazing                  LEGO Star Wars: The Force Awakens   \n",
       "18623  Masterpiece                                             Inside   \n",
       "18624  Masterpiece                                             Inside   \n",
       "\n",
       "                                                     url          platform  \\\n",
       "0                 /games/littlebigplanet-vita/vita-98907  PlayStation Vita   \n",
       "1      /games/littlebigplanet-ps-vita-marvel-super-he...  PlayStation Vita   \n",
       "7                          /games/guild-wars-2/pc-896298                PC   \n",
       "13       /games/mark-of-the-ninja-135615/xbox-360-129276          Xbox 360   \n",
       "14             /games/mark-of-the-ninja-135615/pc-143761                PC   \n",
       "...                                                  ...               ...   \n",
       "18615             /games/zero-time-dilemma/vita-20039757  PlayStation Vita   \n",
       "18618                    /games/starbound-2016/pc-128879                PC   \n",
       "18621  /games/lego-star-wars-the-force-awakens/ps4-20...     PlayStation 4   \n",
       "18623             /games/inside-playdead/xbox-one-121435          Xbox One   \n",
       "18624                 /games/inside-playdead/pc-20055740                PC   \n",
       "\n",
       "       score              genre editors_choice  release_year  release_month  \\\n",
       "0        9.0         Platformer              Y          2012              9   \n",
       "1        9.0         Platformer              Y          2012              9   \n",
       "7        9.0                RPG              Y          2012              9   \n",
       "13       9.0  Action, Adventure              Y          2012              9   \n",
       "14       9.0  Action, Adventure              Y          2012              9   \n",
       "...      ...                ...            ...           ...            ...   \n",
       "18615    9.2          Adventure              Y          2016              6   \n",
       "18618    9.1             Action              Y          2016              7   \n",
       "18621    9.0  Action, Adventure              Y          2016              6   \n",
       "18623   10.0          Adventure              Y          2016              6   \n",
       "18624   10.0          Adventure              Y          2016              6   \n",
       "\n",
       "       release_day  \n",
       "0               12  \n",
       "1               12  \n",
       "7               11  \n",
       "13               7  \n",
       "14               7  \n",
       "...            ...  \n",
       "18615           29  \n",
       "18618           28  \n",
       "18621           29  \n",
       "18623           28  \n",
       "18624           28  \n",
       "\n",
       "[3517 rows x 10 columns]"
      ]
     },
     "execution_count": 36,
     "metadata": {},
     "output_type": "execute_result"
    }
   ],
   "source": [
    "df[df['editors_choice'] == 'Y']"
   ]
  },
  {
   "cell_type": "markdown",
   "metadata": {},
   "source": [
    "We see what Boolean Indexing does -- it returns a DataFrame keeping only the rows where the logical expression was `True`. So we are able to easily select instances using a logical expression. We can use other methods to return `Series` objects of dtype `bool`. For example, we will use [the method `Series.str.contains()`](http://pandas.pydata.org/pandas-docs/stable/generated/pandas.Series.str.contains.html) below to return all games that contain the string `'Mario'` in their title.\n",
    "\n",
    "**Run** the cell below to select only the instances where the title contains the string `'Mario'` and display the first few `'Mario'` games."
   ]
  },
  {
   "cell_type": "code",
   "execution_count": 37,
   "metadata": {
    "collapsed": false
   },
   "outputs": [
    {
     "data": {
      "text/html": [
       "<div>\n",
       "<table border=\"1\" class=\"dataframe\">\n",
       "  <thead>\n",
       "    <tr style=\"text-align: right;\">\n",
       "      <th></th>\n",
       "      <th>score_phrase</th>\n",
       "      <th>title</th>\n",
       "      <th>url</th>\n",
       "      <th>platform</th>\n",
       "      <th>score</th>\n",
       "      <th>genre</th>\n",
       "      <th>editors_choice</th>\n",
       "      <th>release_year</th>\n",
       "      <th>release_month</th>\n",
       "      <th>release_day</th>\n",
       "    </tr>\n",
       "  </thead>\n",
       "  <tbody>\n",
       "    <tr>\n",
       "      <th>239</th>\n",
       "      <td>Great</td>\n",
       "      <td>Paper Mario: Sticker Star</td>\n",
       "      <td>/games/paper-mario-3ds/3ds-77808</td>\n",
       "      <td>Nintendo 3DS</td>\n",
       "      <td>8.3</td>\n",
       "      <td>RPG</td>\n",
       "      <td>N</td>\n",
       "      <td>2012</td>\n",
       "      <td>11</td>\n",
       "      <td>6</td>\n",
       "    </tr>\n",
       "    <tr>\n",
       "      <th>292</th>\n",
       "      <td>Amazing</td>\n",
       "      <td>New Super Mario Bros. U</td>\n",
       "      <td>/games/new-super-mario-bros-u/wii-u-135584</td>\n",
       "      <td>Wii U</td>\n",
       "      <td>9.1</td>\n",
       "      <td>Platformer</td>\n",
       "      <td>Y</td>\n",
       "      <td>2012</td>\n",
       "      <td>11</td>\n",
       "      <td>15</td>\n",
       "    </tr>\n",
       "    <tr>\n",
       "      <th>514</th>\n",
       "      <td>Amazing</td>\n",
       "      <td>Super Mario 64</td>\n",
       "      <td>/games/super-mario-64/n64-606</td>\n",
       "      <td>Nintendo 64</td>\n",
       "      <td>9.8</td>\n",
       "      <td>Platformer</td>\n",
       "      <td>Y</td>\n",
       "      <td>1996</td>\n",
       "      <td>9</td>\n",
       "      <td>25</td>\n",
       "    </tr>\n",
       "    <tr>\n",
       "      <th>525</th>\n",
       "      <td>Great</td>\n",
       "      <td>Mario Kart 64</td>\n",
       "      <td>/games/mario-kart/n64-502</td>\n",
       "      <td>Nintendo 64</td>\n",
       "      <td>8.1</td>\n",
       "      <td>Racing, Action</td>\n",
       "      <td>Y</td>\n",
       "      <td>1997</td>\n",
       "      <td>2</td>\n",
       "      <td>20</td>\n",
       "    </tr>\n",
       "    <tr>\n",
       "      <th>1083</th>\n",
       "      <td>Good</td>\n",
       "      <td>Mario Party</td>\n",
       "      <td>/games/mario-party/n64-10397</td>\n",
       "      <td>Nintendo 64</td>\n",
       "      <td>7.9</td>\n",
       "      <td>Party</td>\n",
       "      <td>N</td>\n",
       "      <td>1999</td>\n",
       "      <td>2</td>\n",
       "      <td>11</td>\n",
       "    </tr>\n",
       "  </tbody>\n",
       "</table>\n",
       "</div>"
      ],
      "text/plain": [
       "     score_phrase                      title  \\\n",
       "239         Great  Paper Mario: Sticker Star   \n",
       "292       Amazing    New Super Mario Bros. U   \n",
       "514       Amazing             Super Mario 64   \n",
       "525         Great              Mario Kart 64   \n",
       "1083         Good                Mario Party   \n",
       "\n",
       "                                             url      platform  score  \\\n",
       "239             /games/paper-mario-3ds/3ds-77808  Nintendo 3DS    8.3   \n",
       "292   /games/new-super-mario-bros-u/wii-u-135584         Wii U    9.1   \n",
       "514                /games/super-mario-64/n64-606   Nintendo 64    9.8   \n",
       "525                    /games/mario-kart/n64-502   Nintendo 64    8.1   \n",
       "1083                /games/mario-party/n64-10397   Nintendo 64    7.9   \n",
       "\n",
       "               genre editors_choice  release_year  release_month  release_day  \n",
       "239              RPG              N          2012             11            6  \n",
       "292       Platformer              Y          2012             11           15  \n",
       "514       Platformer              Y          1996              9           25  \n",
       "525   Racing, Action              Y          1997              2           20  \n",
       "1083           Party              N          1999              2           11  "
      ]
     },
     "metadata": {},
     "output_type": "display_data"
    }
   ],
   "source": [
    "mario_df = df[df['title'].str.contains('Mario')]\n",
    "display(mario_df.head(5))"
   ]
  },
  {
   "cell_type": "markdown",
   "metadata": {},
   "source": [
    "Now that we've selected the instances where the `title` feature contains the `'Mario'` string, we can check to see if Mario games get higher scores from ign than the entire population of reviewed games.\n",
    "\n",
    "**Run** the block of code below to display the mean ign review score for Mario games and compare it to the overall mean. "
   ]
  },
  {
   "cell_type": "code",
   "execution_count": 38,
   "metadata": {
    "collapsed": false
   },
   "outputs": [
    {
     "name": "stdout",
     "output_type": "stream",
     "text": [
      "The mean score is 7.86 for Mario games, compared to the mean score 6.95 for all reviewed games.\n"
     ]
    }
   ],
   "source": [
    "print(\"The mean score is {:.2f} for Mario games, compared to the mean score {:.2f} for all reviewed games.\".format(\n",
    "    mario_df['score'].mean(), df['score'].mean()))"
   ]
  },
  {
   "cell_type": "markdown",
   "metadata": {},
   "source": [
    "We can also check the average score for games released in the last year... are we living in a golden age of gaming?\n",
    "\n",
    "**Run** the block of code below to display the mean ign review score for games with `release_year` of 2016."
   ]
  },
  {
   "cell_type": "code",
   "execution_count": 39,
   "metadata": {
    "collapsed": false,
    "scrolled": true
   },
   "outputs": [
    {
     "name": "stdout",
     "output_type": "stream",
     "text": [
      "The mean score of the 226 games released in 2016 is 7.57.\n"
     ]
    }
   ],
   "source": [
    "df_2016 = df[df['release_year']==2016]\n",
    "print(\"The mean score of the {} games released in 2016 is {:.2f}.\".format(len(df_2016),df_2016['score'].mean()))"
   ]
  },
  {
   "cell_type": "markdown",
   "metadata": {},
   "source": [
    "We can use [the `isin()` method](http://pandas.pydata.org/pandas-docs/stable/generated/pandas.Series.isin.html) to see if the value of a feature is equal to any of the values within a list. This is useful if we want to pick items that fall within a category that is not necessarily numerical or lexical. For example, if we want to consider ign's reviews of mobile gaming, we might want to select only the instances from `df` where the `'platform'` feature is either `'Android'`, `'iPhone'`, or `'Windows Phone'`.\n",
    "\n",
    "**Run** the block of code below to display the mean score for mobile games, where the `'platform'` is either `'Android'`, `'iPhone'`, or `'Windows Phone'`."
   ]
  },
  {
   "cell_type": "code",
   "execution_count": 40,
   "metadata": {
    "collapsed": false
   },
   "outputs": [
    {
     "name": "stdout",
     "output_type": "stream",
     "text": [
      "The mean score of 895 mobile games is 7.29.\n"
     ]
    }
   ],
   "source": [
    "mobile_df = df[df['platform'].isin(['Android', 'iPhone', 'Windows Phone'])]\n",
    "print(\"The mean score of {} mobile games is {:.2f}.\".format(len(mobile_df),mobile_df['score'].mean()))"
   ]
  },
  {
   "cell_type": "markdown",
   "metadata": {},
   "source": [
    "## Describing and grouping\n",
    "Before you try to solve some data problems on your own, there are a few other `pandas` techniques that will help you with your initial data exploration. The first is [the `describe()` method](http://pandas.pydata.org/pandas-docs/stable/generated/pandas.DataFrame.describe.html), that provides a descriptive summary of all numerical features within a `DataFrame` object.\n",
    "\n",
    "**Run** the cell below to see what happens when you call `df.describe()`"
   ]
  },
  {
   "cell_type": "code",
   "execution_count": 41,
   "metadata": {
    "collapsed": false
   },
   "outputs": [
    {
     "data": {
      "text/html": [
       "<div>\n",
       "<table border=\"1\" class=\"dataframe\">\n",
       "  <thead>\n",
       "    <tr style=\"text-align: right;\">\n",
       "      <th></th>\n",
       "      <th>score</th>\n",
       "      <th>release_year</th>\n",
       "      <th>release_month</th>\n",
       "      <th>release_day</th>\n",
       "    </tr>\n",
       "  </thead>\n",
       "  <tbody>\n",
       "    <tr>\n",
       "      <th>count</th>\n",
       "      <td>18625.000000</td>\n",
       "      <td>18625.000000</td>\n",
       "      <td>18625.00000</td>\n",
       "      <td>18625.000000</td>\n",
       "    </tr>\n",
       "    <tr>\n",
       "      <th>mean</th>\n",
       "      <td>6.950459</td>\n",
       "      <td>2006.515329</td>\n",
       "      <td>7.13847</td>\n",
       "      <td>15.603866</td>\n",
       "    </tr>\n",
       "    <tr>\n",
       "      <th>std</th>\n",
       "      <td>1.711736</td>\n",
       "      <td>4.587529</td>\n",
       "      <td>3.47671</td>\n",
       "      <td>8.690128</td>\n",
       "    </tr>\n",
       "    <tr>\n",
       "      <th>min</th>\n",
       "      <td>0.500000</td>\n",
       "      <td>1970.000000</td>\n",
       "      <td>1.00000</td>\n",
       "      <td>1.000000</td>\n",
       "    </tr>\n",
       "    <tr>\n",
       "      <th>25%</th>\n",
       "      <td>6.000000</td>\n",
       "      <td>2003.000000</td>\n",
       "      <td>4.00000</td>\n",
       "      <td>8.000000</td>\n",
       "    </tr>\n",
       "    <tr>\n",
       "      <th>50%</th>\n",
       "      <td>7.300000</td>\n",
       "      <td>2007.000000</td>\n",
       "      <td>8.00000</td>\n",
       "      <td>16.000000</td>\n",
       "    </tr>\n",
       "    <tr>\n",
       "      <th>75%</th>\n",
       "      <td>8.200000</td>\n",
       "      <td>2010.000000</td>\n",
       "      <td>10.00000</td>\n",
       "      <td>23.000000</td>\n",
       "    </tr>\n",
       "    <tr>\n",
       "      <th>max</th>\n",
       "      <td>10.000000</td>\n",
       "      <td>2016.000000</td>\n",
       "      <td>12.00000</td>\n",
       "      <td>31.000000</td>\n",
       "    </tr>\n",
       "  </tbody>\n",
       "</table>\n",
       "</div>"
      ],
      "text/plain": [
       "              score  release_year  release_month   release_day\n",
       "count  18625.000000  18625.000000    18625.00000  18625.000000\n",
       "mean       6.950459   2006.515329        7.13847     15.603866\n",
       "std        1.711736      4.587529        3.47671      8.690128\n",
       "min        0.500000   1970.000000        1.00000      1.000000\n",
       "25%        6.000000   2003.000000        4.00000      8.000000\n",
       "50%        7.300000   2007.000000        8.00000     16.000000\n",
       "75%        8.200000   2010.000000       10.00000     23.000000\n",
       "max       10.000000   2016.000000       12.00000     31.000000"
      ]
     },
     "metadata": {},
     "output_type": "display_data"
    }
   ],
   "source": [
    "display(df.describe())"
   ]
  },
  {
   "cell_type": "markdown",
   "metadata": {},
   "source": [
    "We see that `describe()` returns the count, the mean, the standard deviation, the minimum, the 25th, 50th, and 75th percentiles, and the maximum for features with numeric dtypes. Pretty handy!\n",
    "\n",
    "The last thing I want to cover is [the `groupby()` method](http://pandas.pydata.org/pandas-docs/stable/generated/pandas.DataFrame.groupby.html). We can combine the `groupby()` method with descriptive statistics methods, such as `min()`, `max()`, `mean()`, and `median()` to apply the function to each groups. For example, let's use `groupby()` to see the mean for each `platform`.\n",
    "\n",
    "**Run** the code below to try your first `groupby()` command!"
   ]
  },
  {
   "cell_type": "code",
   "execution_count": 42,
   "metadata": {
    "collapsed": false
   },
   "outputs": [
    {
     "data": {
      "text/plain": [
       "platform\n",
       "Android             7.546154\n",
       "Arcade              6.036364\n",
       "Atari 2600          5.900000\n",
       "Atari 5200          8.000000\n",
       "Commodore 64/128    6.416667\n",
       "                      ...   \n",
       "Xbox 360            7.105334\n",
       "Xbox One            7.655769\n",
       "iPad                7.672727\n",
       "iPhone              7.288005\n",
       "iPod                6.964706\n",
       "Name: score, dtype: float64"
      ]
     },
     "execution_count": 42,
     "metadata": {},
     "output_type": "execute_result"
    }
   ],
   "source": [
    "df.groupby('platform')['score'].mean()"
   ]
  },
  {
   "cell_type": "markdown",
   "metadata": {},
   "source": [
    "Pretty awesome, huh! With one line of code, we are able to compute the mean review score for each platform. Even more awesome is that we can use that result to pick out the results for specific platforms, and we can also plot the results really efficiently by just putting `.plot()` at the end!\n",
    "\n",
    "**Run** the cell below to use `groupby()` to plot the results for only a few specific consoles:"
   ]
  },
  {
   "cell_type": "code",
   "execution_count": 43,
   "metadata": {
    "collapsed": false
   },
   "outputs": [
    {
     "data": {
      "image/png": "[encoded data removed]",
      "text/plain": [
       "<matplotlib.figure.Figure at 0x10b590150>"
      ]
     },
     "metadata": {},
     "output_type": "display_data"
    }
   ],
   "source": [
    "consoles = ['Game Boy','Game Boy Color','Game Boy Advance']\n",
    "ax = df.groupby('platform')['score'].mean()[consoles].plot(kind=\"bar\")\n",
    "xlabel = ax.set_xlabel(\"Console\")\n",
    "ylabel = ax.set_ylabel(\"Average Score (out of 10)\")\n",
    "ylim = ax.set_ylim([0,10])"
   ]
  },
  {
   "cell_type": "markdown",
   "metadata": {},
   "source": [
    "I hope you're now appreciating how powerful `pandas` is as a tool for exploratory data analysis. Let's do one more advanced example of plotting using `groupby()` where we group by two features:\n",
    "\n",
    "**Run** the cell below to generate a plot of the average release score for games from each year, for games with and without the editor's choice label"
   ]
  },
  {
   "cell_type": "code",
   "execution_count": 44,
   "metadata": {
    "collapsed": false
   },
   "outputs": [
    {
     "data": {
      "image/png": "[encoded data removed]",
      "text/plain": [
       "<matplotlib.figure.Figure at 0x10e6a4290>"
      ]
     },
     "metadata": {},
     "output_type": "display_data"
    }
   ],
   "source": [
    "ax = df\\\n",
    "    [df['release_year']>=2000]\\\n",
    "    .groupby(['editors_choice','release_year'])\\\n",
    "    ['score']\\\n",
    "    .mean()\\\n",
    "    .unstack('editors_choice')\\\n",
    "    .plot(title=\"IGN review scores from 2000 to present\")\n",
    "xlabel = ax.set_xlabel(\"Release Year\")\n",
    "ylabel = ax.set_ylabel(\"Average Score (out of 10)\")\n",
    "ylim = ax.set_ylim([0,10])"
   ]
  },
  {
   "cell_type": "markdown",
   "metadata": {},
   "source": [
    "There's a lot going on in the cell above. Note that the first seven lines are a single command broken over several lines with slashes for easier comprehension. Let's break it all down:\n",
    "  - In line 1, we start with the data frame `df`. Eventually this long line of code will return a `matplotlib.axes.AxesSubplot` object, so we store the result into `ax`.\n",
    "  - In line 2, we use boolean indexing to select only the instances with games released in the year 2000 or later.\n",
    "  - In line 3, we use the `groupby()` method to group the data first by `'editors_choice'` and then by `'release_year'`.\n",
    "  - In line 4, we keep only the `'score'` feature of the data frame.\n",
    "  - In line 5, we compute our desired descriptive statistic: the mean(). Note that because we've grouped by `'editors_choice'`, and then by `'release_year'`, each feature has two indices. The outermost index (level 0) is `'editors_choice'` and the innermost index (level -1) is `'release_year'`. So we will have the mean of editors-choice games and the mean of non-editors-choice games for each year.\n",
    "  - In line 6, [the method unstack('editors_choice')](http://pandas.pydata.org/pandas-docs/stable/generated/pandas.DataFrame.unstack.html) pivots the `'editors_choice'` index, and each possible value of `'editors_choice'` becomes a column.\n",
    "  - In line 7, we make a plot with one line for each column. The x-axis is the only remaining index, which is `'release_year'`\n",
    "  - The last three lines use the `ax` object to set the labels and y-axis limits.\n",
    "\n",
    "More helpful hints on visualization can be found [in the pandas documentation](http://pandas.pydata.org/pandas-docs/stable/visualization.html#)."
   ]
  },
  {
   "cell_type": "markdown",
   "metadata": {},
   "source": [
    "Also, you may **run** the three cells below to make more sense of what the `unstack()` method is actually doing:"
   ]
  },
  {
   "cell_type": "code",
   "execution_count": 45,
   "metadata": {
    "collapsed": false,
    "scrolled": false
   },
   "outputs": [
    {
     "data": {
      "text/html": [
       "<div>\n",
       "<table border=\"1\" class=\"dataframe\">\n",
       "  <thead>\n",
       "    <tr style=\"text-align: right;\">\n",
       "      <th>editors_choice</th>\n",
       "      <th>N</th>\n",
       "      <th>Y</th>\n",
       "    </tr>\n",
       "    <tr>\n",
       "      <th>release_year</th>\n",
       "      <th></th>\n",
       "      <th></th>\n",
       "    </tr>\n",
       "  </thead>\n",
       "  <tbody>\n",
       "    <tr>\n",
       "      <th>2000</th>\n",
       "      <td>6.254784</td>\n",
       "      <td>9.000599</td>\n",
       "    </tr>\n",
       "    <tr>\n",
       "      <th>2001</th>\n",
       "      <td>6.495146</td>\n",
       "      <td>8.982081</td>\n",
       "    </tr>\n",
       "    <tr>\n",
       "      <th>2002</th>\n",
       "      <td>6.362571</td>\n",
       "      <td>8.891228</td>\n",
       "    </tr>\n",
       "    <tr>\n",
       "      <th>2003</th>\n",
       "      <td>6.562251</td>\n",
       "      <td>8.870412</td>\n",
       "    </tr>\n",
       "    <tr>\n",
       "      <th>2004</th>\n",
       "      <td>6.627187</td>\n",
       "      <td>8.760630</td>\n",
       "    </tr>\n",
       "    <tr>\n",
       "      <th>...</th>\n",
       "      <td>...</td>\n",
       "      <td>...</td>\n",
       "    </tr>\n",
       "    <tr>\n",
       "      <th>2012</th>\n",
       "      <td>6.819705</td>\n",
       "      <td>8.966190</td>\n",
       "    </tr>\n",
       "    <tr>\n",
       "      <th>2013</th>\n",
       "      <td>7.042294</td>\n",
       "      <td>9.151449</td>\n",
       "    </tr>\n",
       "    <tr>\n",
       "      <th>2014</th>\n",
       "      <td>7.082500</td>\n",
       "      <td>9.214433</td>\n",
       "    </tr>\n",
       "    <tr>\n",
       "      <th>2015</th>\n",
       "      <td>7.313946</td>\n",
       "      <td>9.090141</td>\n",
       "    </tr>\n",
       "    <tr>\n",
       "      <th>2016</th>\n",
       "      <td>7.127072</td>\n",
       "      <td>9.368889</td>\n",
       "    </tr>\n",
       "  </tbody>\n",
       "</table>\n",
       "<p>17 rows × 2 columns</p>\n",
       "</div>"
      ],
      "text/plain": [
       "editors_choice         N         Y\n",
       "release_year                      \n",
       "2000            6.254784  9.000599\n",
       "2001            6.495146  8.982081\n",
       "2002            6.362571  8.891228\n",
       "2003            6.562251  8.870412\n",
       "2004            6.627187  8.760630\n",
       "...                  ...       ...\n",
       "2012            6.819705  8.966190\n",
       "2013            7.042294  9.151449\n",
       "2014            7.082500  9.214433\n",
       "2015            7.313946  9.090141\n",
       "2016            7.127072  9.368889\n",
       "\n",
       "[17 rows x 2 columns]"
      ]
     },
     "execution_count": 45,
     "metadata": {},
     "output_type": "execute_result"
    }
   ],
   "source": [
    "# Here is the DataFrame unstacking index 0 (editors_choice)\n",
    "df\\\n",
    "    [df['release_year']>=2000]\\\n",
    "    .groupby(['editors_choice','release_year'])\\\n",
    "    ['score']\\\n",
    "    .mean()\\\n",
    "    .unstack(0)"
   ]
  },
  {
   "cell_type": "code",
   "execution_count": 46,
   "metadata": {
    "collapsed": false
   },
   "outputs": [
    {
     "data": {
      "text/html": [
       "<div>\n",
       "<table border=\"1\" class=\"dataframe\">\n",
       "  <thead>\n",
       "    <tr style=\"text-align: right;\">\n",
       "      <th>release_year</th>\n",
       "      <th>2000</th>\n",
       "      <th>2001</th>\n",
       "      <th>2002</th>\n",
       "      <th>2003</th>\n",
       "      <th>2004</th>\n",
       "      <th>2005</th>\n",
       "      <th>2006</th>\n",
       "      <th>2007</th>\n",
       "      <th>2008</th>\n",
       "      <th>2009</th>\n",
       "      <th>2010</th>\n",
       "      <th>2011</th>\n",
       "      <th>2012</th>\n",
       "      <th>2013</th>\n",
       "      <th>2014</th>\n",
       "      <th>2015</th>\n",
       "      <th>2016</th>\n",
       "    </tr>\n",
       "    <tr>\n",
       "      <th>editors_choice</th>\n",
       "      <th></th>\n",
       "      <th></th>\n",
       "      <th></th>\n",
       "      <th></th>\n",
       "      <th></th>\n",
       "      <th></th>\n",
       "      <th></th>\n",
       "      <th></th>\n",
       "      <th></th>\n",
       "      <th></th>\n",
       "      <th></th>\n",
       "      <th></th>\n",
       "      <th></th>\n",
       "      <th></th>\n",
       "      <th></th>\n",
       "      <th></th>\n",
       "      <th></th>\n",
       "    </tr>\n",
       "  </thead>\n",
       "  <tbody>\n",
       "    <tr>\n",
       "      <th>N</th>\n",
       "      <td>6.254784</td>\n",
       "      <td>6.495146</td>\n",
       "      <td>6.362571</td>\n",
       "      <td>6.562251</td>\n",
       "      <td>6.627187</td>\n",
       "      <td>6.769822</td>\n",
       "      <td>6.417867</td>\n",
       "      <td>6.281205</td>\n",
       "      <td>6.089597</td>\n",
       "      <td>6.441394</td>\n",
       "      <td>6.489113</td>\n",
       "      <td>6.517726</td>\n",
       "      <td>6.819705</td>\n",
       "      <td>7.042294</td>\n",
       "      <td>7.082500</td>\n",
       "      <td>7.313946</td>\n",
       "      <td>7.127072</td>\n",
       "    </tr>\n",
       "    <tr>\n",
       "      <th>Y</th>\n",
       "      <td>9.000599</td>\n",
       "      <td>8.982081</td>\n",
       "      <td>8.891228</td>\n",
       "      <td>8.870412</td>\n",
       "      <td>8.760630</td>\n",
       "      <td>8.796296</td>\n",
       "      <td>8.696407</td>\n",
       "      <td>8.719397</td>\n",
       "      <td>8.814286</td>\n",
       "      <td>8.836655</td>\n",
       "      <td>8.729259</td>\n",
       "      <td>8.758824</td>\n",
       "      <td>8.966190</td>\n",
       "      <td>9.151449</td>\n",
       "      <td>9.214433</td>\n",
       "      <td>9.090141</td>\n",
       "      <td>9.368889</td>\n",
       "    </tr>\n",
       "  </tbody>\n",
       "</table>\n",
       "</div>"
      ],
      "text/plain": [
       "release_year        2000      2001      2002      2003      2004      2005  \\\n",
       "editors_choice                                                               \n",
       "N               6.254784  6.495146  6.362571  6.562251  6.627187  6.769822   \n",
       "Y               9.000599  8.982081  8.891228  8.870412  8.760630  8.796296   \n",
       "\n",
       "release_year        2006      2007      2008      2009      2010      2011  \\\n",
       "editors_choice                                                               \n",
       "N               6.417867  6.281205  6.089597  6.441394  6.489113  6.517726   \n",
       "Y               8.696407  8.719397  8.814286  8.836655  8.729259  8.758824   \n",
       "\n",
       "release_year        2012      2013      2014      2015      2016  \n",
       "editors_choice                                                    \n",
       "N               6.819705  7.042294  7.082500  7.313946  7.127072  \n",
       "Y               8.966190  9.151449  9.214433  9.090141  9.368889  "
      ]
     },
     "execution_count": 46,
     "metadata": {},
     "output_type": "execute_result"
    }
   ],
   "source": [
    "# Here is the DataFrame unstacking index 1 (release_year)\n",
    "df\\\n",
    "    [df['release_year']>=2000]\\\n",
    "    .groupby(['editors_choice','release_year'])\\\n",
    "    ['score']\\\n",
    "    .mean()\\\n",
    "    .unstack(1)"
   ]
  },
  {
   "cell_type": "code",
   "execution_count": 47,
   "metadata": {
    "collapsed": false
   },
   "outputs": [
    {
     "data": {
      "text/plain": [
       "editors_choice  release_year\n",
       "N               2000            6.254784\n",
       "                2001            6.495146\n",
       "                2002            6.362571\n",
       "                2003            6.562251\n",
       "                2004            6.627187\n",
       "                                  ...   \n",
       "Y               2012            8.966190\n",
       "                2013            9.151449\n",
       "                2014            9.214433\n",
       "                2015            9.090141\n",
       "                2016            9.368889\n",
       "Name: score, dtype: float64"
      ]
     },
     "execution_count": 47,
     "metadata": {},
     "output_type": "execute_result"
    }
   ],
   "source": [
    "# Here is the Series without unstacking either index. Note that each instance (row) has two indices.\n",
    "df\\\n",
    "    [df['release_year']>=2000]\\\n",
    "    .groupby(['editors_choice','release_year'])\\\n",
    "    ['score']\\\n",
    "    .mean()"
   ]
  },
  {
   "cell_type": "markdown",
   "metadata": {},
   "source": [
    "# Exercises - Part 2\n",
    "Now it's your turn to play with `pandas` to answer questions using the ign game review data set. If you're not sure how to do something, feel free to ask questions, read up the `pandas` documentation, or refer to the code examples above!"
   ]
  },
  {
   "cell_type": "markdown",
   "metadata": {},
   "source": [
    "## Question 1:\n",
    "What is the mean IGN review score for games released in October (where the `release_month` is 10)?"
   ]
  },
  {
   "cell_type": "code",
   "execution_count": 48,
   "metadata": {
    "collapsed": false
   },
   "outputs": [
    {
     "data": {
      "text/plain": [
       "7.0671428571428585"
      ]
     },
     "execution_count": 48,
     "metadata": {},
     "output_type": "execute_result"
    }
   ],
   "source": [
    "df[df['release_month'] == 10]['score'].mean()"
   ]
  },
  {
   "cell_type": "markdown",
   "metadata": {},
   "source": [
    "## Question 2:\n",
    "How many games were reviewed by IGN that were released for the `'Genesis'` platform?"
   ]
  },
  {
   "cell_type": "code",
   "execution_count": 49,
   "metadata": {
    "collapsed": false
   },
   "outputs": [
    {
     "data": {
      "text/plain": [
       "58"
      ]
     },
     "execution_count": 49,
     "metadata": {},
     "output_type": "execute_result"
    }
   ],
   "source": [
    "len(df[df['platform'] == 'Genesis'])\n",
    "# Alternative way\n",
    "# df[df['platform'] == 'Genesis']['title'].count()"
   ]
  },
  {
   "cell_type": "markdown",
   "metadata": {},
   "source": [
    "## Question 3:\n",
    "On average, does IGN rate games higher in the `'Platformer'` genre, or in the `'Action'` genre?"
   ]
  },
  {
   "cell_type": "code",
   "execution_count": 50,
   "metadata": {
    "collapsed": false
   },
   "outputs": [
    {
     "name": "stdout",
     "output_type": "stream",
     "text": [
      "Platformer\n"
     ]
    }
   ],
   "source": [
    "mean_platformer = df[df['genre'] == 'Platformer']['score'].mean()\n",
    "mean_action = df[df['genre'] == 'Action']['score'].mean()\n",
    "if (mean_platformer > mean_action):\n",
    "    print(\"Platformer\")\n",
    "elif (mean_platformer < mean_action):\n",
    "    print(\"Action\")\n",
    "else:\n",
    "    print(\"Equal\")"
   ]
  },
  {
   "cell_type": "markdown",
   "metadata": {},
   "source": [
    "## Question 4:\n",
    "How many 'Mario' games have been reviewed by IGN? What about 'Kirby' games? Which games does IGN tend to review more highly?"
   ]
  },
  {
   "cell_type": "code",
   "execution_count": 51,
   "metadata": {
    "collapsed": false
   },
   "outputs": [
    {
     "name": "stdout",
     "output_type": "stream",
     "text": [
      "114 Mario games have been reviewed by IGN\n",
      "25 Kirby games have been reviewed by IGN\n",
      "Mario\n"
     ]
    }
   ],
   "source": [
    "mario_df = df[df['title'].str.contains('Mario')]\n",
    "print(\"{} Mario games have been reviewed by IGN\".format(len(mario_df)))\n",
    "kirby_df = df[df['title'].str.contains('Kirby')]\n",
    "print(\"{} Kirby games have been reviewed by IGN\".format(len(kirby_df)))\n",
    "mario_avg = mario_df['score'].mean()\n",
    "kirby_avg = kirby_df['score'].mean()\n",
    "if (mario_avg > kirby_avg):\n",
    "    print(\"Mario\")\n",
    "elif (mario_avg < kirby_avg):\n",
    "    print(\"Kirby\")\n",
    "else:\n",
    "    print(\"Equal\")"
   ]
  },
  {
   "cell_type": "markdown",
   "metadata": {},
   "source": [
    "## Question 5:\n",
    "Make a bar plot with the number of games reviewed, grouped by `release_month`. Which `release_month` has had the most reviewed games? The fewest?"
   ]
  },
  {
   "cell_type": "code",
   "execution_count": 52,
   "metadata": {
    "collapsed": false,
    "scrolled": false
   },
   "outputs": [
    {
     "name": "stdout",
     "output_type": "stream",
     "text": [
      "11 month had the most number of reviewed games\n",
      "1 month had the least number of reviewed games\n"
     ]
    },
    {
     "data": {
      "image/png": "[encoded data removed]",
      "text/plain": [
       "<matplotlib.figure.Figure at 0x10ead87d0>"
      ]
     },
     "metadata": {},
     "output_type": "display_data"
    }
   ],
   "source": [
    "ax = df.groupby('release_month')['title'].count()\n",
    "ax_plot = ax.plot(kind='bar')\n",
    "ax_plot.set_xlabel('Month')\n",
    "ax_plot.set_ylabel('Number of games')\n",
    "\n",
    "print(\"{} month had the most number of reviewed games\".format(ax.idxmax()))\n",
    "print(\"{} month had the least number of reviewed games\".format(ax.idxmin()))\n"
   ]
  },
  {
   "cell_type": "markdown",
   "metadata": {},
   "source": [
    "## Question 6:\n",
    "Now make a bar plot with the mean score, grouped by `release_month`. Which `release_month` has the highest-reviewed games? The lowest?"
   ]
  },
  {
   "cell_type": "code",
   "execution_count": 53,
   "metadata": {
    "collapsed": false
   },
   "outputs": [
    {
     "name": "stdout",
     "output_type": "stream",
     "text": [
      "9 month had the highest-reviewed games\n",
      "12 month had the lowest-reviewed games\n"
     ]
    },
    {
     "data": {
      "image/png": "[encoded data removed]",
      "text/plain": [
       "<matplotlib.figure.Figure at 0x10ead80d0>"
      ]
     },
     "metadata": {},
     "output_type": "display_data"
    }
   ],
   "source": [
    "ax = df.groupby('release_month')['score'].mean()\n",
    "ax_plot = ax.plot(kind='bar')\n",
    "xlabel = ax_plot.set_xlabel('Month')\n",
    "ylabel = ax_plot.set_ylabel('Mean score')\n",
    "\n",
    "print(\"{} month had the highest-reviewed games\".format(ax.idxmax()))\n",
    "print(\"{} month had the lowest-reviewed games\".format(ax.idxmin()))"
   ]
  },
  {
   "cell_type": "markdown",
   "metadata": {},
   "source": [
    "## Question 7:\n",
    "Which `'score_phrase'` was the most commonly used by IGN in the year 2008? The least common?"
   ]
  },
  {
   "cell_type": "code",
   "execution_count": 71,
   "metadata": {
    "collapsed": false
   },
   "outputs": [
    {
     "name": "stdout",
     "output_type": "stream",
     "text": [
      "Good was the most commonly used score phrase by IGN with 496 appearances\n",
      "Disaster was the least commonly used score phrase by IGN with 0 appearances\n"
     ]
    }
   ],
   "source": [
    "df_sp = df\\\n",
    "    [df['release_year'] == 2008]\\\n",
    "    .groupby('score_phrase')['score_phrase'].count()\n",
    "print(\"{} was the most commonly used score phrase by IGN with {} appearances\".format(df_sp.idxmax(), df_sp.max()))\n",
    "print(\"{} was the least commonly used score phrase by IGN with {} appearances\".format(df_sp.idxmin(), df_sp.min()))"
   ]
  },
  {
   "cell_type": "markdown",
   "metadata": {},
   "source": [
    "## Question 8:\n",
    "Make a plot showing how the average scores for games in the genres `'Party'`, `'RPG'`, and `'Sports'` have changed from the year 2000 to the year 2010. How do the trends look for each genre? Does one genre appear to be consistently reviewed higher or lower than the other two? "
   ]
  },
  {
   "cell_type": "code",
   "execution_count": null,
   "metadata": {
    "collapsed": false
   },
   "outputs": [],
   "source": [
    "condition_1 = df['release_year'] >= 2000\n",
    "condition_2 = df['release_year'] <= 2010\n",
    "\n",
    "genres = ['Party', 'RPG', 'Sports']\n",
    "ax = df\\\n",
    "    [ condition_1 & condition_2]\\\n",
    "    .groupby(['genre', 'release_year'])\\\n",
    "    ['score']\\\n",
    "    .mean()\\\n",
    "    .unstack('genre')\\\n",
    "    [genres]\\\n",
    "    .plot()\n",
    "    \n",
    "xlabel = ax.set_xlabel(\"Release Year\")\n",
    "ylabel = ax.set_ylabel(\"Average Score (out of 10)\")\n",
    "ylim = ax.set_ylim([0,10])\n",
    "\n"
   ]
  }
 ],
 "metadata": {
  "kernelspec": {
   "display_name": "Python 2",
   "language": "python",
   "name": "python2"
  },
  "language_info": {
   "codemirror_mode": {
    "name": "ipython",
    "version": 2
   },
   "file_extension": ".py",
   "mimetype": "text/x-python",
   "name": "python",
   "nbconvert_exporter": "python",
   "pygments_lexer": "ipython2",
   "version": "2.7.12"
  }
 },
 "nbformat": 4,
 "nbformat_minor": 0
}
